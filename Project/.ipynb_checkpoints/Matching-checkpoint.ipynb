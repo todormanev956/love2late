{
 "cells": [
  {
   "cell_type": "markdown",
   "metadata": {},
   "source": [
    "# LOVE2LATE"
   ]
  },
  {
   "cell_type": "code",
   "execution_count": 2,
   "metadata": {},
   "outputs": [],
   "source": [
    "%matplotlib inline\n",
    "from Homemade import pipeline as pl\n",
    "from Homemade import utils as ut\n",
    "from Homemade import matching as mt\n",
    "import pandas as pd\n",
    "pd.set_option('display.max_colwidth', -1)"
   ]
  },
  {
   "cell_type": "markdown",
   "metadata": {},
   "source": [
    "D'abord on réunit les annonces des 4 journaux en un dataframe."
   ]
  },
  {
   "cell_type": "code",
   "execution_count": 3,
   "metadata": {},
   "outputs": [
    {
     "data": {
      "text/html": [
       "<div>\n",
       "<style scoped>\n",
       "    .dataframe tbody tr th:only-of-type {\n",
       "        vertical-align: middle;\n",
       "    }\n",
       "\n",
       "    .dataframe tbody tr th {\n",
       "        vertical-align: top;\n",
       "    }\n",
       "\n",
       "    .dataframe thead th {\n",
       "        text-align: right;\n",
       "    }\n",
       "</style>\n",
       "<table border=\"1\" class=\"dataframe\">\n",
       "  <thead>\n",
       "    <tr style=\"text-align: right;\">\n",
       "      <th></th>\n",
       "      <th>Ark</th>\n",
       "      <th>Page</th>\n",
       "      <th>Paragraph_id</th>\n",
       "      <th>Image_file</th>\n",
       "      <th>Text</th>\n",
       "      <th>Coordinates</th>\n",
       "      <th>Date</th>\n",
       "      <th>Titre</th>\n",
       "      <th>Folder</th>\n",
       "      <th>Sex</th>\n",
       "      <th>Info</th>\n",
       "    </tr>\n",
       "  </thead>\n",
       "  <tbody>\n",
       "    <tr>\n",
       "      <td>bpt6k940659s007r_7_1</td>\n",
       "      <td>bpt6k940659s</td>\n",
       "      <td>7</td>\n",
       "      <td>r_7_1</td>\n",
       "      <td>bpt6k940659s_007.jpg</td>\n",
       "      <td>veuve, 40 ans, physique agréable, situation moyenne, désire contracter mariage avec monsieur de 40 à 50 ans, ayant h on emploi.</td>\n",
       "      <td>[[300, 2563, 1161, 2759]]</td>\n",
       "      <td>1918-12-01</td>\n",
       "      <td>L'Intermédiaire : organe des mariages : paraissant le 1er de chaque mois</td>\n",
       "      <td>LI</td>\n",
       "      <td>Woman</td>\n",
       "      <td>{'age': 40, 'other_age': [40, 50], 'self_traits': ['beauté'], 'other_traits': [], 'self_social_stat': 'pauvre', 'other_social_stat': 'None', 'self_job': '', 'other_job': [], 'rapport': []}</td>\n",
       "    </tr>\n",
       "    <tr>\n",
       "      <td>bpt6k940659s007r_7_2</td>\n",
       "      <td>bpt6k940659s</td>\n",
       "      <td>7</td>\n",
       "      <td>r_7_2</td>\n",
       "      <td>bpt6k940659s_007.jpg</td>\n",
       "      <td>jeune fille, 20 ans, taille moyenne, gentille, bonne ménagère, épouserait blessé de la guerre, ayant petit commerce ou emploi.</td>\n",
       "      <td>[[302, 2838, 1160, 3035]]</td>\n",
       "      <td>1918-12-01</td>\n",
       "      <td>L'Intermédiaire : organe des mariages : paraissant le 1er de chaque mois</td>\n",
       "      <td>LI</td>\n",
       "      <td>Woman</td>\n",
       "      <td>{'age': 20, 'other_age': 'None', 'self_traits': ['intérieur'], 'other_traits': ['mutilé'], 'self_social_stat': 'None', 'other_social_stat': 'None', 'self_job': 'intérieur', 'other_job': [], 'rapport': []}</td>\n",
       "    </tr>\n",
       "    <tr>\n",
       "      <td>bpt6k940659s007r_8_3</td>\n",
       "      <td>bpt6k940659s</td>\n",
       "      <td>7</td>\n",
       "      <td>r_8_3</td>\n",
       "      <td>bpt6k940659s_007.jpg</td>\n",
       "      <td>jeune fille, 23 ans, famille très honorable, épouserait jeune homme honnête, accepterait volontiers mariage avec mutilé.</td>\n",
       "      <td>[[1239, 1600, 2096, 1798]]</td>\n",
       "      <td>1918-12-01</td>\n",
       "      <td>L'Intermédiaire : organe des mariages : paraissant le 1er de chaque mois</td>\n",
       "      <td>LI</td>\n",
       "      <td>Woman</td>\n",
       "      <td>{'age': 23, 'other_age': 'None', 'self_traits': ['sérieux'], 'other_traits': ['mutilé', 'jeune', 'célibataire'], 'self_social_stat': 'None', 'other_social_stat': 'None', 'self_job': '', 'other_job': [], 'rapport': []}</td>\n",
       "    </tr>\n",
       "  </tbody>\n",
       "</table>\n",
       "</div>"
      ],
      "text/plain": [
       "                               Ark  Page Paragraph_id            Image_file  \\\n",
       "bpt6k940659s007r_7_1  bpt6k940659s  7     r_7_1        bpt6k940659s_007.jpg   \n",
       "bpt6k940659s007r_7_2  bpt6k940659s  7     r_7_2        bpt6k940659s_007.jpg   \n",
       "bpt6k940659s007r_8_3  bpt6k940659s  7     r_8_3        bpt6k940659s_007.jpg   \n",
       "\n",
       "                                                                                                                                                 Text  \\\n",
       "bpt6k940659s007r_7_1  veuve, 40 ans, physique agréable, situation moyenne, désire contracter mariage avec monsieur de 40 à 50 ans, ayant h on emploi.   \n",
       "bpt6k940659s007r_7_2  jeune fille, 20 ans, taille moyenne, gentille, bonne ménagère, épouserait blessé de la guerre, ayant petit commerce ou emploi.    \n",
       "bpt6k940659s007r_8_3  jeune fille, 23 ans, famille très honorable, épouserait jeune homme honnête, accepterait volontiers mariage avec mutilé.          \n",
       "\n",
       "                                     Coordinates       Date  \\\n",
       "bpt6k940659s007r_7_1  [[300, 2563, 1161, 2759]]  1918-12-01   \n",
       "bpt6k940659s007r_7_2  [[302, 2838, 1160, 3035]]  1918-12-01   \n",
       "bpt6k940659s007r_8_3  [[1239, 1600, 2096, 1798]] 1918-12-01   \n",
       "\n",
       "                                                                                         Titre  \\\n",
       "bpt6k940659s007r_7_1  L'Intermédiaire : organe des mariages : paraissant le 1er de chaque mois   \n",
       "bpt6k940659s007r_7_2  L'Intermédiaire : organe des mariages : paraissant le 1er de chaque mois   \n",
       "bpt6k940659s007r_8_3  L'Intermédiaire : organe des mariages : paraissant le 1er de chaque mois   \n",
       "\n",
       "                     Folder    Sex  \\\n",
       "bpt6k940659s007r_7_1  LI     Woman   \n",
       "bpt6k940659s007r_7_2  LI     Woman   \n",
       "bpt6k940659s007r_8_3  LI     Woman   \n",
       "\n",
       "                                                                                                                                                                                                                                           Info  \n",
       "bpt6k940659s007r_7_1  {'age': 40, 'other_age': [40, 50], 'self_traits': ['beauté'], 'other_traits': [], 'self_social_stat': 'pauvre', 'other_social_stat': 'None', 'self_job': '', 'other_job': [], 'rapport': []}                               \n",
       "bpt6k940659s007r_7_2  {'age': 20, 'other_age': 'None', 'self_traits': ['intérieur'], 'other_traits': ['mutilé'], 'self_social_stat': 'None', 'other_social_stat': 'None', 'self_job': 'intérieur', 'other_job': [], 'rapport': []}               \n",
       "bpt6k940659s007r_8_3  {'age': 23, 'other_age': 'None', 'self_traits': ['sérieux'], 'other_traits': ['mutilé', 'jeune', 'célibataire'], 'self_social_stat': 'None', 'other_social_stat': 'None', 'self_job': '', 'other_job': [], 'rapport': []}  "
      ]
     },
     "execution_count": 3,
     "metadata": {},
     "output_type": "execute_result"
    }
   ],
   "source": [
    "LI  =  ut.read_from_folder('LI',file_name = 'LI')\n",
    "LLDM  =  ut.read_from_folder('LLDM',file_name = 'LLDM')\n",
    "LTDU  =  ut.read_from_folder('LTDU',file_name = 'LTDU')\n",
    "RV  =  ut.read_from_folder('RV',file_name = 'RV')\n",
    "frames = [LI,LLDM,LTDU,RV]\n",
    "Ad= pd.concat(frames)\n",
    "Ad.head(3)"
   ]
  },
  {
   "cell_type": "markdown",
   "metadata": {},
   "source": [
    "Ensuite, on répand l'amour à travers le monde"
   ]
  },
  {
   "cell_type": "code",
   "execution_count": 4,
   "metadata": {},
   "outputs": [
    {
     "name": "stdout",
     "output_type": "stream",
     "text": [
      "1023\n"
     ]
    },
    {
     "ename": "TypeError",
     "evalue": "drop() got an unexpected keyword argument 'subset'",
     "output_type": "error",
     "traceback": [
      "\u001b[1;31m---------------------------------------------------------------------------\u001b[0m",
      "\u001b[1;31mTypeError\u001b[0m                                 Traceback (most recent call last)",
      "\u001b[1;32m<ipython-input-4-5bce5a7ca560>\u001b[0m in \u001b[0;36m<module>\u001b[1;34m\u001b[0m\n\u001b[1;32m----> 1\u001b[1;33m \u001b[0mMatches\u001b[0m\u001b[1;33m,\u001b[0m\u001b[0mtrash_people\u001b[0m \u001b[1;33m=\u001b[0m \u001b[0mmt\u001b[0m\u001b[1;33m.\u001b[0m\u001b[0mupdate_matches\u001b[0m\u001b[1;33m(\u001b[0m\u001b[0mAd\u001b[0m\u001b[1;33m,\u001b[0m\u001b[1;32mFalse\u001b[0m\u001b[1;33m)\u001b[0m\u001b[1;33m\u001b[0m\u001b[1;33m\u001b[0m\u001b[0m\n\u001b[0m",
      "\u001b[1;32m~\\Documents\\fdh-gallica\\Project\\Homemade\\matching.py\u001b[0m in \u001b[0;36mupdate_matches\u001b[1;34m(dataframe, maximise_n_match)\u001b[0m\n\u001b[0;32m     19\u001b[0m         \u001b[0mdataframe\u001b[0m\u001b[1;33m.\u001b[0m\u001b[0mloc\u001b[0m\u001b[1;33m[\u001b[0m\u001b[0mcouple\u001b[0m\u001b[1;33m[\u001b[0m\u001b[1;36m1\u001b[0m\u001b[1;33m]\u001b[0m\u001b[1;33m,\u001b[0m\u001b[1;34m'Score'\u001b[0m\u001b[1;33m]\u001b[0m\u001b[1;33m=\u001b[0m\u001b[0mcouple\u001b[0m\u001b[1;33m[\u001b[0m\u001b[1;36m2\u001b[0m\u001b[1;33m]\u001b[0m\u001b[1;33m\u001b[0m\u001b[1;33m\u001b[0m\u001b[0m\n\u001b[0;32m     20\u001b[0m         \u001b[0mdataframe\u001b[0m \u001b[1;33m=\u001b[0m \u001b[0mdataframe\u001b[0m\u001b[1;33m.\u001b[0m\u001b[0msort_values\u001b[0m\u001b[1;33m(\u001b[0m\u001b[1;34m'Score'\u001b[0m\u001b[1;33m,\u001b[0m \u001b[0mascending\u001b[0m\u001b[1;33m=\u001b[0m\u001b[1;32mFalse\u001b[0m\u001b[1;33m)\u001b[0m\u001b[1;33m\u001b[0m\u001b[1;33m\u001b[0m\u001b[0m\n\u001b[1;32m---> 21\u001b[1;33m     \u001b[1;32mreturn\u001b[0m \u001b[0mdataframe\u001b[0m\u001b[1;33m.\u001b[0m\u001b[0mdrop\u001b[0m\u001b[1;33m(\u001b[0m\u001b[0msubset\u001b[0m \u001b[1;33m=\u001b[0m \u001b[1;34m'Score'\u001b[0m\u001b[1;33m)\u001b[0m\u001b[1;33m,\u001b[0m\u001b[0mleft_alone\u001b[0m\u001b[1;33m\u001b[0m\u001b[1;33m\u001b[0m\u001b[0m\n\u001b[0m\u001b[0;32m     22\u001b[0m \u001b[1;33m\u001b[0m\u001b[0m\n\u001b[0;32m     23\u001b[0m \u001b[1;33m\u001b[0m\u001b[0m\n",
      "\u001b[1;31mTypeError\u001b[0m: drop() got an unexpected keyword argument 'subset'"
     ]
    }
   ],
   "source": [
    "Matches,trash_people = mt.update_matches(Ad,False)"
   ]
  },
  {
   "cell_type": "code",
   "execution_count": null,
   "metadata": {},
   "outputs": [],
   "source": [
    "Matches.to_json('Matches.json')"
   ]
  },
  {
   "cell_type": "code",
   "execution_count": null,
   "metadata": {},
   "outputs": [],
   "source": [
    "index = Matches.iloc[0].index\n",
    "show_couple(Matches,index)"
   ]
  },
  {
   "cell_type": "code",
   "execution_count": 6,
   "metadata": {},
   "outputs": [
    {
     "data": {
      "text/plain": [
       "Timestamp('1918-12-01 00:00:00')"
      ]
     },
     "execution_count": 6,
     "metadata": {},
     "output_type": "execute_result"
    }
   ],
   "source": [
    "Ad.Date.iloc[0]"
   ]
  },
  {
   "cell_type": "code",
   "execution_count": null,
   "metadata": {},
   "outputs": [],
   "source": []
  }
 ],
 "metadata": {
  "kernelspec": {
   "display_name": "Python 3",
   "language": "python",
   "name": "python3"
  },
  "language_info": {
   "codemirror_mode": {
    "name": "ipython",
    "version": 3
   },
   "file_extension": ".py",
   "mimetype": "text/x-python",
   "name": "python",
   "nbconvert_exporter": "python",
   "pygments_lexer": "ipython3",
   "version": "3.7.3"
  }
 },
 "nbformat": 4,
 "nbformat_minor": 4
}
