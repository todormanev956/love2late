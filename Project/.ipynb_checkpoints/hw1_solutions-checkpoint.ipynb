{
 "cells": [
  {
   "cell_type": "markdown",
   "metadata": {
    "colab_type": "text",
    "id": "l3ZEgl7t28Ee"
   },
   "source": [
    "# Homework 1\n",
    "## Introduction\n",
    "### Important dates\n",
    "* Homework release: Thursday, 3rd October 2019\n",
    "* **Homework due**: Wednesday, 16th October 2019 (23:59 hours, 11:59 PM)\n",
    "* Peer review due: Wednesday, 23rd October 2019 (23:59 hours, 11:59 PM)\n",
    "* Grading release: Wednesday, 30th October 2019\n",
    "\n",
    "### Description\n",
    "\n",
    "The data you'll be working with comes from multiple sources. The main data source will be [DBLP](https://dblp.uni-trier.de/), a database of publications from major computer science journals and conferences. A subset of DBLP, which you will use in this assignment, is provided to you via a [google drive folder](https://drive.google.com/drive/folders/1AKgntDILxnJ3Bq47ZMkmHzOxKgKLr292?usp=sharing). Later on, you will enrich the DBLP data with a dataset on conference rankings and with the proceedings of the [NIPS conference](https://nips.cc/) [1] ('proceedings' is another word for the set of papers published at an academic conference). After loading and cleaning the data, you will answer various questions about its contents.\n",
    "\n",
    "**Some rules:**\n",
    "- You are allowed to use any built-in Python library that comes with Anaconda. If you want to use an external library, you have to justify your choice.\n",
    "- Make sure you use the data folder provided in the repository in *read-only* mode.\n",
    "- Be sure to provide explanations for your answers. A notebook that only has code cells will not suffice.\n",
    "- Also, be sure to *hand in a fully-run and evaluated notebook*. We will not run your notebook for you, we will grade it as is, which means that only the results contained in your evaluated code cells will be considered, and we will not see the results in unevaluated code cells. In order to check whether everything looks as intended, you can check the rendered notebook on the GitHub website once you have pushed your solution there.\n",
    "\n",
    "[1] Note that NIPS was renamed to NeurIPS in 2018, but for simplicity, whenever we say 'NIPS', we really mean 'NIPS and NeurIPS'."
   ]
  },
  {
   "cell_type": "markdown",
   "metadata": {
    "colab_type": "text",
    "id": "A0IIdWOs48BB"
   },
   "source": [
    "## Task A. Getting a sense of the dataset\n",
    "\n",
    "### A1. Loading the data\n",
    "Download the DBLP dataset (available on [google drive](https://drive.google.com/drive/folders/1AKgntDILxnJ3Bq47ZMkmHzOxKgKLr292?usp=sharing)) and load it into a Pandas dataframe. A row of your dataframe should look as follows:\n",
    "\n",
    "| paper id | author names | publication year | paper title | \n",
    "| :----:|:-------------:| :-----:|:-----:|\n",
    "| conf/nips/doe1036 | [John Doe, Jane Doe] | 2003 | Some Catchy Title: An Expanded and Boring Title | \n",
    "\n",
    "\n",
    "1. Filter the papers: keep only conference papers. For each of the remaining ones, find the acronym of the conference where it was published. Retain only those papers that have been published in the conferences listed in `data/list_of_ai_conferences.txt`. Additionally, add a column named 'conference' to your dataframe.   \n",
    "_Hint: The `paper id` tells you whether a paper was published at a conference, and if so, at which one._\n",
    "\n",
    "2. Report the overall number of papers in the filtered dataset, as well as the number of papers per conference."
   ]
  },
  {
   "cell_type": "code",
   "execution_count": 1,
   "metadata": {
    "colab": {},
    "colab_type": "code",
    "id": "ara6mLe1l_CQ"
   },
   "outputs": [],
   "source": [
    "%matplotlib inline\n",
    "import pandas as pd\n",
    "import numpy as np\n",
    "import re\n",
    "from matplotlib.ticker import MaxNLocator\n",
    "import matplotlib.pyplot as plt\n",
    "from requests import get\n",
    "from bs4 import BeautifulSoup\n",
    "from scipy import stats\n",
    "import warnings\n",
    "warnings.filterwarnings('ignore')"
   ]
  },
  {
   "cell_type": "markdown",
   "metadata": {},
   "source": [
    "**Load the DBLP dataset into a Pandas dataframe**   \n",
    "*Note: The dataset is provided as a tab separated file (tsv), hence, you need to explicitly state '\\t' as the delimiter.*"
   ]
  },
  {
   "cell_type": "code",
   "execution_count": 2,
   "metadata": {},
   "outputs": [],
   "source": [
    "dblp = pd.read_csv('data/dblp.tsv.bz2', sep='\\t')"
   ]
  },
  {
   "cell_type": "code",
   "execution_count": 3,
   "metadata": {
    "scrolled": true
   },
   "outputs": [
    {
     "data": {
      "text/html": [
       "<div>\n",
       "<style scoped>\n",
       "    .dataframe tbody tr th:only-of-type {\n",
       "        vertical-align: middle;\n",
       "    }\n",
       "\n",
       "    .dataframe tbody tr th {\n",
       "        vertical-align: top;\n",
       "    }\n",
       "\n",
       "    .dataframe thead th {\n",
       "        text-align: right;\n",
       "    }\n",
       "</style>\n",
       "<table border=\"1\" class=\"dataframe\">\n",
       "  <thead>\n",
       "    <tr style=\"text-align: right;\">\n",
       "      <th></th>\n",
       "      <th>id</th>\n",
       "      <th>authors</th>\n",
       "      <th>year</th>\n",
       "      <th>title</th>\n",
       "    </tr>\n",
       "  </thead>\n",
       "  <tbody>\n",
       "    <tr>\n",
       "      <td>0</td>\n",
       "      <td>tr/meltdown/s18</td>\n",
       "      <td>['Paul Kocher', 'Daniel Genkin', 'Daniel Gruss...</td>\n",
       "      <td>2018.0</td>\n",
       "      <td>Spectre Attacks: Exploiting Speculative Execut...</td>\n",
       "    </tr>\n",
       "    <tr>\n",
       "      <td>1</td>\n",
       "      <td>tr/meltdown/m18</td>\n",
       "      <td>['Moritz Lipp', 'Michael Schwarz 0001', 'Danie...</td>\n",
       "      <td>2018.0</td>\n",
       "      <td>Meltdown</td>\n",
       "    </tr>\n",
       "    <tr>\n",
       "      <td>2</td>\n",
       "      <td>tr/acm/CS2013</td>\n",
       "      <td>[]</td>\n",
       "      <td>2013.0</td>\n",
       "      <td>Computer Science Curricula 2013</td>\n",
       "    </tr>\n",
       "    <tr>\n",
       "      <td>3</td>\n",
       "      <td>tr/gte/TR-0263-08-94-165</td>\n",
       "      <td>['Frank Manola']</td>\n",
       "      <td>1994.0</td>\n",
       "      <td>An Evaluation of Object-Oriented DBMS Developm...</td>\n",
       "    </tr>\n",
       "    <tr>\n",
       "      <td>4</td>\n",
       "      <td>tr/gte/TR-0222-10-92-165</td>\n",
       "      <td>['Michael L. Brodie', 'Michael Stonebraker']</td>\n",
       "      <td>1993.0</td>\n",
       "      <td>DARWIN: On the Incremental Migration of Legacy...</td>\n",
       "    </tr>\n",
       "  </tbody>\n",
       "</table>\n",
       "</div>"
      ],
      "text/plain": [
       "                         id  \\\n",
       "0           tr/meltdown/s18   \n",
       "1           tr/meltdown/m18   \n",
       "2             tr/acm/CS2013   \n",
       "3  tr/gte/TR-0263-08-94-165   \n",
       "4  tr/gte/TR-0222-10-92-165   \n",
       "\n",
       "                                             authors    year  \\\n",
       "0  ['Paul Kocher', 'Daniel Genkin', 'Daniel Gruss...  2018.0   \n",
       "1  ['Moritz Lipp', 'Michael Schwarz 0001', 'Danie...  2018.0   \n",
       "2                                                 []  2013.0   \n",
       "3                                   ['Frank Manola']  1994.0   \n",
       "4       ['Michael L. Brodie', 'Michael Stonebraker']  1993.0   \n",
       "\n",
       "                                               title  \n",
       "0  Spectre Attacks: Exploiting Speculative Execut...  \n",
       "1                                           Meltdown  \n",
       "2                    Computer Science Curricula 2013  \n",
       "3  An Evaluation of Object-Oriented DBMS Developm...  \n",
       "4  DARWIN: On the Incremental Migration of Legacy...  "
      ]
     },
     "execution_count": 3,
     "metadata": {},
     "output_type": "execute_result"
    }
   ],
   "source": [
    "dblp.head()"
   ]
  },
  {
   "cell_type": "code",
   "execution_count": 4,
   "metadata": {},
   "outputs": [],
   "source": [
    "aiconf = open('data/list_of_ai_conferences.txt').read().splitlines()"
   ]
  },
  {
   "cell_type": "markdown",
   "metadata": {},
   "source": [
    "**Extract the publication type (assigned attribute `type`) and the corresponding acronym (assigned attribute `conference`) from the `id` field of the `dblp` dataframe**"
   ]
  },
  {
   "cell_type": "code",
   "execution_count": 5,
   "metadata": {},
   "outputs": [],
   "source": [
    "dblp['conference'] = dblp.id.apply(lambda x: x.split('/')[1])"
   ]
  },
  {
   "cell_type": "code",
   "execution_count": 6,
   "metadata": {},
   "outputs": [],
   "source": [
    "dblp['type'] = dblp.id.apply(lambda x: x.split('/')[0])"
   ]
  },
  {
   "cell_type": "markdown",
   "metadata": {},
   "source": [
    "**Retain only AI conferences (publications of the `conf` type, with the acronyms as listed in the `aiconf` dataframe)**"
   ]
  },
  {
   "cell_type": "code",
   "execution_count": 7,
   "metadata": {},
   "outputs": [],
   "source": [
    "dblp = dblp[dblp.type == 'conf']"
   ]
  },
  {
   "cell_type": "code",
   "execution_count": 8,
   "metadata": {},
   "outputs": [],
   "source": [
    "dblp = dblp[dblp['conference'].isin(aiconf)]"
   ]
  },
  {
   "cell_type": "code",
   "execution_count": 9,
   "metadata": {},
   "outputs": [],
   "source": [
    "dblp = dblp.drop(['id', 'type'], axis=1)"
   ]
  },
  {
   "cell_type": "code",
   "execution_count": 10,
   "metadata": {},
   "outputs": [],
   "source": [
    "dblp['authors'] = dblp['authors'].apply(eval)"
   ]
  },
  {
   "cell_type": "code",
   "execution_count": 11,
   "metadata": {},
   "outputs": [
    {
     "data": {
      "text/html": [
       "<div>\n",
       "<style scoped>\n",
       "    .dataframe tbody tr th:only-of-type {\n",
       "        vertical-align: middle;\n",
       "    }\n",
       "\n",
       "    .dataframe tbody tr th {\n",
       "        vertical-align: top;\n",
       "    }\n",
       "\n",
       "    .dataframe thead th {\n",
       "        text-align: right;\n",
       "    }\n",
       "</style>\n",
       "<table border=\"1\" class=\"dataframe\">\n",
       "  <thead>\n",
       "    <tr style=\"text-align: right;\">\n",
       "      <th></th>\n",
       "      <th>authors</th>\n",
       "      <th>year</th>\n",
       "      <th>title</th>\n",
       "      <th>conference</th>\n",
       "    </tr>\n",
       "  </thead>\n",
       "  <tbody>\n",
       "    <tr>\n",
       "      <td>2049312</td>\n",
       "      <td>[Yoshinori Kuno, Yasukazu Okamoto, Satoshi Okada]</td>\n",
       "      <td>1990.0</td>\n",
       "      <td>Object recognition using a feature search stra...</td>\n",
       "      <td>iccv</td>\n",
       "    </tr>\n",
       "    <tr>\n",
       "      <td>2049313</td>\n",
       "      <td>[Sundar Vedula, Simon Baker, Peter Rander, Rob...</td>\n",
       "      <td>1999.0</td>\n",
       "      <td>Three-Dimensional Scene Flow.</td>\n",
       "      <td>iccv</td>\n",
       "    </tr>\n",
       "    <tr>\n",
       "      <td>2049314</td>\n",
       "      <td>[Étienne Mémin, Patrick Pérez]</td>\n",
       "      <td>1999.0</td>\n",
       "      <td>Fluid Motion Recovery by Coupling Dense and Pa...</td>\n",
       "      <td>iccv</td>\n",
       "    </tr>\n",
       "    <tr>\n",
       "      <td>2049315</td>\n",
       "      <td>[Sven J. Dickinson, Alex Pentland, Azriel Rose...</td>\n",
       "      <td>1990.0</td>\n",
       "      <td>Qualitative 3-D shape reconstruction using dis...</td>\n",
       "      <td>iccv</td>\n",
       "    </tr>\n",
       "    <tr>\n",
       "      <td>2049316</td>\n",
       "      <td>[Avi Singh, Larry Yang, Sergey Levine]</td>\n",
       "      <td>2017.0</td>\n",
       "      <td>GPLAC: Generalizing Vision-Based Robotic Skill...</td>\n",
       "      <td>iccv</td>\n",
       "    </tr>\n",
       "  </tbody>\n",
       "</table>\n",
       "</div>"
      ],
      "text/plain": [
       "                                                   authors    year  \\\n",
       "2049312  [Yoshinori Kuno, Yasukazu Okamoto, Satoshi Okada]  1990.0   \n",
       "2049313  [Sundar Vedula, Simon Baker, Peter Rander, Rob...  1999.0   \n",
       "2049314                     [Étienne Mémin, Patrick Pérez]  1999.0   \n",
       "2049315  [Sven J. Dickinson, Alex Pentland, Azriel Rose...  1990.0   \n",
       "2049316             [Avi Singh, Larry Yang, Sergey Levine]  2017.0   \n",
       "\n",
       "                                                     title conference  \n",
       "2049312  Object recognition using a feature search stra...       iccv  \n",
       "2049313                      Three-Dimensional Scene Flow.       iccv  \n",
       "2049314  Fluid Motion Recovery by Coupling Dense and Pa...       iccv  \n",
       "2049315  Qualitative 3-D shape reconstruction using dis...       iccv  \n",
       "2049316  GPLAC: Generalizing Vision-Based Robotic Skill...       iccv  "
      ]
     },
     "execution_count": 11,
     "metadata": {},
     "output_type": "execute_result"
    }
   ],
   "source": [
    "dblp.head()"
   ]
  },
  {
   "cell_type": "markdown",
   "metadata": {},
   "source": [
    "**Check if any row of the `dblp` dataframe contains an entry with a missing `title`**   \n",
    "*Note: Can also use `dblp.isnull().values.any()` or `dblp['title'].isnull().sum()` alternatively*"
   ]
  },
  {
   "cell_type": "code",
   "execution_count": 12,
   "metadata": {},
   "outputs": [
    {
     "data": {
      "text/plain": [
       "False"
      ]
     },
     "execution_count": 12,
     "metadata": {},
     "output_type": "execute_result"
    }
   ],
   "source": [
    "dblp['title'].isnull().values.any()"
   ]
  },
  {
   "cell_type": "markdown",
   "metadata": {},
   "source": [
    "**Compute**\n",
    "1. The overall number of AI conference publications\n",
    "2. The number of publications per conference"
   ]
  },
  {
   "cell_type": "code",
   "execution_count": 13,
   "metadata": {},
   "outputs": [
    {
     "data": {
      "text/plain": [
       "102003"
      ]
     },
     "execution_count": 13,
     "metadata": {},
     "output_type": "execute_result"
    }
   ],
   "source": [
    "len(dblp)"
   ]
  },
  {
   "cell_type": "code",
   "execution_count": 14,
   "metadata": {},
   "outputs": [
    {
     "data": {
      "text/html": [
       "<div>\n",
       "<style scoped>\n",
       "    .dataframe tbody tr th:only-of-type {\n",
       "        vertical-align: middle;\n",
       "    }\n",
       "\n",
       "    .dataframe tbody tr th {\n",
       "        vertical-align: top;\n",
       "    }\n",
       "\n",
       "    .dataframe thead th {\n",
       "        text-align: right;\n",
       "    }\n",
       "</style>\n",
       "<table border=\"1\" class=\"dataframe\">\n",
       "  <thead>\n",
       "    <tr style=\"text-align: right;\">\n",
       "      <th></th>\n",
       "      <th>num-papers</th>\n",
       "    </tr>\n",
       "    <tr>\n",
       "      <th>conference</th>\n",
       "      <th></th>\n",
       "    </tr>\n",
       "  </thead>\n",
       "  <tbody>\n",
       "    <tr>\n",
       "      <td>icra</td>\n",
       "      <td>21585</td>\n",
       "    </tr>\n",
       "    <tr>\n",
       "      <td>cvpr</td>\n",
       "      <td>12853</td>\n",
       "    </tr>\n",
       "    <tr>\n",
       "      <td>aaai</td>\n",
       "      <td>10796</td>\n",
       "    </tr>\n",
       "    <tr>\n",
       "      <td>ijcai</td>\n",
       "      <td>9669</td>\n",
       "    </tr>\n",
       "    <tr>\n",
       "      <td>nips</td>\n",
       "      <td>8445</td>\n",
       "    </tr>\n",
       "    <tr>\n",
       "      <td>acl</td>\n",
       "      <td>6330</td>\n",
       "    </tr>\n",
       "    <tr>\n",
       "      <td>icml</td>\n",
       "      <td>5017</td>\n",
       "    </tr>\n",
       "    <tr>\n",
       "      <td>iconip</td>\n",
       "      <td>4985</td>\n",
       "    </tr>\n",
       "    <tr>\n",
       "      <td>iccv</td>\n",
       "      <td>4179</td>\n",
       "    </tr>\n",
       "    <tr>\n",
       "      <td>naacl</td>\n",
       "      <td>3310</td>\n",
       "    </tr>\n",
       "    <tr>\n",
       "      <td>emnlp</td>\n",
       "      <td>3299</td>\n",
       "    </tr>\n",
       "    <tr>\n",
       "      <td>icann</td>\n",
       "      <td>3134</td>\n",
       "    </tr>\n",
       "    <tr>\n",
       "      <td>accv</td>\n",
       "      <td>2390</td>\n",
       "    </tr>\n",
       "    <tr>\n",
       "      <td>fgr</td>\n",
       "      <td>1383</td>\n",
       "    </tr>\n",
       "    <tr>\n",
       "      <td>pricai</td>\n",
       "      <td>1372</td>\n",
       "    </tr>\n",
       "    <tr>\n",
       "      <td>iccbr</td>\n",
       "      <td>863</td>\n",
       "    </tr>\n",
       "    <tr>\n",
       "      <td>ida</td>\n",
       "      <td>712</td>\n",
       "    </tr>\n",
       "    <tr>\n",
       "      <td>ilp</td>\n",
       "      <td>679</td>\n",
       "    </tr>\n",
       "    <tr>\n",
       "      <td>ksem</td>\n",
       "      <td>635</td>\n",
       "    </tr>\n",
       "    <tr>\n",
       "      <td>aamas</td>\n",
       "      <td>367</td>\n",
       "    </tr>\n",
       "  </tbody>\n",
       "</table>\n",
       "</div>"
      ],
      "text/plain": [
       "            num-papers\n",
       "conference            \n",
       "icra             21585\n",
       "cvpr             12853\n",
       "aaai             10796\n",
       "ijcai             9669\n",
       "nips              8445\n",
       "acl               6330\n",
       "icml              5017\n",
       "iconip            4985\n",
       "iccv              4179\n",
       "naacl             3310\n",
       "emnlp             3299\n",
       "icann             3134\n",
       "accv              2390\n",
       "fgr               1383\n",
       "pricai            1372\n",
       "iccbr              863\n",
       "ida                712\n",
       "ilp                679\n",
       "ksem               635\n",
       "aamas              367"
      ]
     },
     "execution_count": 14,
     "metadata": {},
     "output_type": "execute_result"
    }
   ],
   "source": [
    "dblp.groupby('conference').count().drop(['year','title'],axis=1).rename(columns={'authors':'num-papers'}).sort_values(by='num-papers', ascending=False)"
   ]
  },
  {
   "cell_type": "markdown",
   "metadata": {
    "colab_type": "text",
    "id": "mnE6N9zXl-yz"
   },
   "source": [
    "### A2. An author-centric look\n",
    "The dataframe you created above was a paper-centric one. Now, we want you to create a new dataframe centered around authors. Do this by expanding the author names in the lists in the 2nd column into separate rows. That is, if a paper has 3 authors, turn that row into 3 rows, each of which only contains one of the author names (along with the rest of the paper information, i.e., title, conference and year). Keep both dataframes, we are going to need both of them.    \n",
    "**Report the number of unique authors.**"
   ]
  },
  {
   "cell_type": "markdown",
   "metadata": {},
   "source": [
    "**Create an author-centric dataframe**\n",
    "\n",
    "**Method-1** (Slow: intuitive to understand, however, not recommended due to poor performance)\n",
    "1. Expand the `authors` field (list to individual entries).\n",
    "2. Perform an inner-join of this dataframe with the `dblp` dataframe. We perform an index-index join.\n",
    "3. 'Unpivot' the constructed dataframe: to have one row per author corresponding to a unique {conference, year, title}.\n",
    "4. Ignore all the rows that have missing values (NaNs) in the `author` field.\n",
    "\n",
    "**Method-2** (Efficient implementation of explode())\n",
    "1. Expand the `authors` field using the Pandas method explode() (Pandas version >= 0.25.1).\n",
    "2. Ignore all the rows that have missing values (NaNs) in the `author` field.\n",
    "\n",
    "*Note: The first step (Step 1) can be performed in multiple ways. Please see the top-rated answer of [this](https://stackoverflow.com/questions/53218931/how-to-unnest-explode-a-column-in-a-pandas-dataframe) stack overflow post for an 'almost' exhaustive list of methods.*"
   ]
  },
  {
   "cell_type": "code",
   "execution_count": 15,
   "metadata": {
    "colab": {},
    "colab_type": "code",
    "id": "gN2LJyl_lyis"
   },
   "outputs": [],
   "source": [
    "def author_centric_slow(dblp):\n",
    "    dblp_auth = dblp.authors.apply(pd.Series) \\\n",
    "                    .merge(dblp, right_index = True, left_index = True) \\\n",
    "                    .drop([\"authors\"], axis = 1) \\\n",
    "                    .melt(id_vars = ['conference', 'year', 'title'], value_name = 'author') \\\n",
    "                    .drop(\"variable\", axis = 1) \\\n",
    "                    .dropna(subset=['author'])\n",
    "    return dblp_auth\n",
    "\n",
    "def author_centric_efficient(dblp):\n",
    "    dblp_auth = dblp.explode('authors') \\\n",
    "                    .rename(columns={'authors':'author'}) \\\n",
    "                    .reset_index(drop=True) \\\n",
    "                    .dropna(subset=['author'])\n",
    "    return dblp_auth"
   ]
  },
  {
   "cell_type": "code",
   "execution_count": 16,
   "metadata": {},
   "outputs": [
    {
     "name": "stdout",
     "output_type": "stream",
     "text": [
      "CPU times: user 21.7 s, sys: 840 ms, total: 22.6 s\n",
      "Wall time: 22.5 s\n"
     ]
    },
    {
     "data": {
      "text/html": [
       "<div>\n",
       "<style scoped>\n",
       "    .dataframe tbody tr th:only-of-type {\n",
       "        vertical-align: middle;\n",
       "    }\n",
       "\n",
       "    .dataframe tbody tr th {\n",
       "        vertical-align: top;\n",
       "    }\n",
       "\n",
       "    .dataframe thead th {\n",
       "        text-align: right;\n",
       "    }\n",
       "</style>\n",
       "<table border=\"1\" class=\"dataframe\">\n",
       "  <thead>\n",
       "    <tr style=\"text-align: right;\">\n",
       "      <th></th>\n",
       "      <th>conference</th>\n",
       "      <th>year</th>\n",
       "      <th>title</th>\n",
       "      <th>author</th>\n",
       "    </tr>\n",
       "  </thead>\n",
       "  <tbody>\n",
       "    <tr>\n",
       "      <td>0</td>\n",
       "      <td>iccv</td>\n",
       "      <td>1990.0</td>\n",
       "      <td>Object recognition using a feature search stra...</td>\n",
       "      <td>Yoshinori Kuno</td>\n",
       "    </tr>\n",
       "    <tr>\n",
       "      <td>1</td>\n",
       "      <td>iccv</td>\n",
       "      <td>1999.0</td>\n",
       "      <td>Three-Dimensional Scene Flow.</td>\n",
       "      <td>Sundar Vedula</td>\n",
       "    </tr>\n",
       "    <tr>\n",
       "      <td>2</td>\n",
       "      <td>iccv</td>\n",
       "      <td>1999.0</td>\n",
       "      <td>Fluid Motion Recovery by Coupling Dense and Pa...</td>\n",
       "      <td>Étienne Mémin</td>\n",
       "    </tr>\n",
       "    <tr>\n",
       "      <td>3</td>\n",
       "      <td>iccv</td>\n",
       "      <td>1990.0</td>\n",
       "      <td>Qualitative 3-D shape reconstruction using dis...</td>\n",
       "      <td>Sven J. Dickinson</td>\n",
       "    </tr>\n",
       "    <tr>\n",
       "      <td>4</td>\n",
       "      <td>iccv</td>\n",
       "      <td>2017.0</td>\n",
       "      <td>GPLAC: Generalizing Vision-Based Robotic Skill...</td>\n",
       "      <td>Avi Singh</td>\n",
       "    </tr>\n",
       "  </tbody>\n",
       "</table>\n",
       "</div>"
      ],
      "text/plain": [
       "  conference    year                                              title  \\\n",
       "0       iccv  1990.0  Object recognition using a feature search stra...   \n",
       "1       iccv  1999.0                      Three-Dimensional Scene Flow.   \n",
       "2       iccv  1999.0  Fluid Motion Recovery by Coupling Dense and Pa...   \n",
       "3       iccv  1990.0  Qualitative 3-D shape reconstruction using dis...   \n",
       "4       iccv  2017.0  GPLAC: Generalizing Vision-Based Robotic Skill...   \n",
       "\n",
       "              author  \n",
       "0     Yoshinori Kuno  \n",
       "1      Sundar Vedula  \n",
       "2      Étienne Mémin  \n",
       "3  Sven J. Dickinson  \n",
       "4          Avi Singh  "
      ]
     },
     "execution_count": 16,
     "metadata": {},
     "output_type": "execute_result"
    }
   ],
   "source": [
    "%%time\n",
    "dblp_auth = author_centric_slow(dblp)\n",
    "dblp_auth.head()"
   ]
  },
  {
   "cell_type": "code",
   "execution_count": 17,
   "metadata": {},
   "outputs": [
    {
     "name": "stdout",
     "output_type": "stream",
     "text": [
      "CPU times: user 358 ms, sys: 54.4 ms, total: 412 ms\n",
      "Wall time: 404 ms\n"
     ]
    },
    {
     "data": {
      "text/html": [
       "<div>\n",
       "<style scoped>\n",
       "    .dataframe tbody tr th:only-of-type {\n",
       "        vertical-align: middle;\n",
       "    }\n",
       "\n",
       "    .dataframe tbody tr th {\n",
       "        vertical-align: top;\n",
       "    }\n",
       "\n",
       "    .dataframe thead th {\n",
       "        text-align: right;\n",
       "    }\n",
       "</style>\n",
       "<table border=\"1\" class=\"dataframe\">\n",
       "  <thead>\n",
       "    <tr style=\"text-align: right;\">\n",
       "      <th></th>\n",
       "      <th>author</th>\n",
       "      <th>year</th>\n",
       "      <th>title</th>\n",
       "      <th>conference</th>\n",
       "    </tr>\n",
       "  </thead>\n",
       "  <tbody>\n",
       "    <tr>\n",
       "      <td>0</td>\n",
       "      <td>Yoshinori Kuno</td>\n",
       "      <td>1990.0</td>\n",
       "      <td>Object recognition using a feature search stra...</td>\n",
       "      <td>iccv</td>\n",
       "    </tr>\n",
       "    <tr>\n",
       "      <td>1</td>\n",
       "      <td>Yasukazu Okamoto</td>\n",
       "      <td>1990.0</td>\n",
       "      <td>Object recognition using a feature search stra...</td>\n",
       "      <td>iccv</td>\n",
       "    </tr>\n",
       "    <tr>\n",
       "      <td>2</td>\n",
       "      <td>Satoshi Okada</td>\n",
       "      <td>1990.0</td>\n",
       "      <td>Object recognition using a feature search stra...</td>\n",
       "      <td>iccv</td>\n",
       "    </tr>\n",
       "    <tr>\n",
       "      <td>3</td>\n",
       "      <td>Sundar Vedula</td>\n",
       "      <td>1999.0</td>\n",
       "      <td>Three-Dimensional Scene Flow.</td>\n",
       "      <td>iccv</td>\n",
       "    </tr>\n",
       "    <tr>\n",
       "      <td>4</td>\n",
       "      <td>Simon Baker</td>\n",
       "      <td>1999.0</td>\n",
       "      <td>Three-Dimensional Scene Flow.</td>\n",
       "      <td>iccv</td>\n",
       "    </tr>\n",
       "  </tbody>\n",
       "</table>\n",
       "</div>"
      ],
      "text/plain": [
       "             author    year  \\\n",
       "0    Yoshinori Kuno  1990.0   \n",
       "1  Yasukazu Okamoto  1990.0   \n",
       "2     Satoshi Okada  1990.0   \n",
       "3     Sundar Vedula  1999.0   \n",
       "4       Simon Baker  1999.0   \n",
       "\n",
       "                                               title conference  \n",
       "0  Object recognition using a feature search stra...       iccv  \n",
       "1  Object recognition using a feature search stra...       iccv  \n",
       "2  Object recognition using a feature search stra...       iccv  \n",
       "3                      Three-Dimensional Scene Flow.       iccv  \n",
       "4                      Three-Dimensional Scene Flow.       iccv  "
      ]
     },
     "execution_count": 17,
     "metadata": {},
     "output_type": "execute_result"
    }
   ],
   "source": [
    "%%time\n",
    "dblp_auth = author_centric_efficient(dblp)\n",
    "dblp_auth.head()"
   ]
  },
  {
   "cell_type": "code",
   "execution_count": 18,
   "metadata": {},
   "outputs": [
    {
     "data": {
      "text/plain": [
       "105817"
      ]
     },
     "execution_count": 18,
     "metadata": {},
     "output_type": "execute_result"
    }
   ],
   "source": [
    "len(dblp_auth.author.unique())"
   ]
  },
  {
   "cell_type": "markdown",
   "metadata": {
    "colab_type": "text",
    "id": "8ZiuGiDsl60f"
   },
   "source": [
    "### A3. Is your data analysis-friendly?\n",
    "\n",
    "Using an appropriate view of your data (paper-centric or author-centric), solve the following tasks:\n",
    "\n",
    "1. Plot the number of papers per author and analyze it. Do you observe any outliers? Can you identify the source of the problem? Please elaborate!   \n",
    "_Hint: To find out where the problem comes from, try performing an analysis at the conference or year level._   \n",
    "Make sure you remove this inconsistency from your dataframe before moving to the next step, and also create a new plot of the number of papers per author after fixing the problem.   \n",
    "\n",
    "2. Plot the number of papers per year. Do you observe any inconsistency in the output? Real-world data is usually messy, with typos, erroneous entries, and sometimes issues that make even loading the data problematic. Fix any errors that you encounter along the way, find ways to clean the attribute `year`, and redo the plot of the number of papers per year.   \n",
    "\n",
    "3. Machine learning (ML) has been one of the hottest topics within the broader area of AI recently, so let’s see if this is reflected in the number of ML publications. In particular, let’s focus on the two major ML conferences, NIPS and ICML: make a new dataframe with only NIPS and ICML papers (let’s call these the “ML papers”), plot the number of ML papers over time, and analyze and discuss the plot. Do you observe anything odd in this plot? What causes these problems?   \n",
    "_Hint: Try to perform an analysis at the conference or year level._   \n",
    "\n",
    "4. By now, you may have noticed that some conferences are not fully represented in the DBLP dataset. Complete the paper-centric dataframe by scraping the full NIPS data from the online proceedings at https://papers.nips.cc/ (maintain the same schema used in your previous dataframes, but fill in missing values). After this step, remove any remaining papers that have missing values. Redo the plots of steps A3.2 and A3.3 after fixing the issue.   \n",
    "\n",
    "_Note: In order to avoid re-running the cleaning part of the notebook every time, you could save the results at this point as a pickle file! Also, propagating your cleaning to both dataframes might prove useful later on._"
   ]
  },
  {
   "cell_type": "markdown",
   "metadata": {},
   "source": [
    "***A3.1***   \n",
    "**Plotting the top-10 authors in terms of the number of papers published**"
   ]
  },
  {
   "cell_type": "code",
   "execution_count": 19,
   "metadata": {},
   "outputs": [],
   "source": [
    "def topk_authors(dblp_auth,k):\n",
    "    return dblp_auth[['author', 'title']].rename(columns={'title':'papers'}) \\\n",
    "                                  .groupby('author') \\\n",
    "                                  .count() \\\n",
    "                                  .sort_values(by='papers', ascending=False)[:k]"
   ]
  },
  {
   "cell_type": "code",
   "execution_count": 20,
   "metadata": {
    "colab": {},
    "colab_type": "code",
    "id": "co_yXyk2TzHo",
    "scrolled": true
   },
   "outputs": [
    {
     "data": {
      "text/plain": [
       "Text(0, 0.5, 'Author')"
      ]
     },
     "execution_count": 20,
     "metadata": {},
     "output_type": "execute_result"
    },
    {
     "data": {
      "image/png": "[encoded data removed]",
      "text/plain": [
       "<Figure size 432x288 with 1 Axes>"
      ]
     },
     "metadata": {
      "needs_background": "light"
     },
     "output_type": "display_data"
    }
   ],
   "source": [
    "ax = topk_authors(dblp_auth,10).plot(kind='barh')\n",
    "ax.set_xlabel('#Papers')\n",
    "ax.set_ylabel('Author')"
   ]
  },
  {
   "cell_type": "markdown",
   "metadata": {},
   "source": [
    "**Some Insights**\n",
    "1. The **first** and the **second** ranked authors: *'Satinder P. Singh (ed.)'* and *'Sheila A. Mcllraith'* possess an **unsually** large number of publications.\n",
    "2. Let's analyze the number of papers per conference for both the authors."
   ]
  },
  {
   "cell_type": "code",
   "execution_count": 21,
   "metadata": {},
   "outputs": [
    {
     "data": {
      "text/plain": [
       "author                   conference\n",
       "Satinder P. Singh (ed.)  aaai          663\n",
       "Sheila A. McIlraith      aaai          904\n",
       "                         icml            1\n",
       "                         ijcai          13\n",
       "Name: title, dtype: int64"
      ]
     },
     "execution_count": 21,
     "metadata": {},
     "output_type": "execute_result"
    }
   ],
   "source": [
    "potential_outliers = ['Satinder P. Singh (ed.)', 'Sheila A. McIlraith']\n",
    "dblp_auth[dblp_auth.author.isin(potential_outliers)].groupby(['author','conference'])['title'].count()"
   ]
  },
  {
   "cell_type": "markdown",
   "metadata": {},
   "source": [
    "**More Insights**\n",
    "1. Bulk of the papers for both the authors seem to be from AAAI, seems *fishy*!\n",
    "2. Furthermore, the suffix *'(ed.)'* looks a bit weird. In fact, *'Satinder P. Singh'* is the only author with the suffix *'(ed.)'*.\n",
    "3. Let's analyze the number of publications per author for the AAAI conference."
   ]
  },
  {
   "cell_type": "code",
   "execution_count": 22,
   "metadata": {},
   "outputs": [
    {
     "data": {
      "text/plain": [
       "Text(0, 0.5, 'Author')"
      ]
     },
     "execution_count": 22,
     "metadata": {},
     "output_type": "execute_result"
    },
    {
     "data": {
      "image/png": "[encoded data removed]",
      "text/plain": [
       "<Figure size 432x288 with 1 Axes>"
      ]
     },
     "metadata": {
      "needs_background": "light"
     },
     "output_type": "display_data"
    }
   ],
   "source": [
    "aaai_auth = dblp_auth[dblp_auth.conference=='aaai']\n",
    "ax = topk_authors(aaai_auth,10).plot(kind='barh')\n",
    "ax.set_xlabel('#Papers')\n",
    "ax.set_ylabel('Author')"
   ]
  },
  {
   "cell_type": "markdown",
   "metadata": {},
   "source": [
    "**It is now clear that there is definitely something wrong**\n",
    "1. Reading up on the meaning of the *'(ed.)'* suffix revealed that this is used (in some cases) to denote if an author is an editor of a conference.\n",
    "2. In fact, both authors were the Program Committee (PC) Chairs (equivalent of the boss/chairperson) of the AAAI conference for the years 2017 and 2018 respectively.\n",
    "3. It seems that there names were accidentally added to all the publications of AAAI for the corresponding years. For the year 2017, the suffix *'(ed.)'* was included with the author, denoting that this author is the editor (equivalent of a PC chair), while for the year 2018 even this information was not included.\n",
    "4. Thus, it is best to remove both the authors from our author-centric and their names from the papers in the paper-centric dataframe.\n",
    "5. After redoing the plot, the number of papers per author look much more reasonable now."
   ]
  },
  {
   "cell_type": "code",
   "execution_count": 23,
   "metadata": {},
   "outputs": [],
   "source": [
    "dblp_auth = dblp_auth[(dblp_auth.author != 'Satinder P. Singh (ed.)') & (dblp_auth.author != 'Sheila A. McIlraith')]\n",
    "dblp.authors = dblp.authors.apply(lambda l: [a for a in l if (a != 'Satinder P. Singh (ed.)') & (a != 'Sheila A. McIlraith')])"
   ]
  },
  {
   "cell_type": "code",
   "execution_count": 24,
   "metadata": {},
   "outputs": [
    {
     "data": {
      "text/plain": [
       "Text(0, 0.5, 'Author')"
      ]
     },
     "execution_count": 24,
     "metadata": {},
     "output_type": "execute_result"
    },
    {
     "data": {
      "image/png": "[encoded data removed]",
      "text/plain": [
       "<Figure size 432x288 with 1 Axes>"
      ]
     },
     "metadata": {
      "needs_background": "light"
     },
     "output_type": "display_data"
    }
   ],
   "source": [
    "ax = topk_authors(dblp_auth,10).plot(kind='barh')\n",
    "ax.set_xlabel('#Papers')\n",
    "ax.set_ylabel('Author')"
   ]
  },
  {
   "cell_type": "markdown",
   "metadata": {},
   "source": [
    "***A3.2***   \n",
    "**Plotting the number of papers published per year**"
   ]
  },
  {
   "cell_type": "code",
   "execution_count": 25,
   "metadata": {},
   "outputs": [],
   "source": [
    "def papers_per_year(dblp):\n",
    "    return dblp[['year', 'title']].rename(columns={'title':'papers'}) \\\n",
    "                           .groupby('year') \\\n",
    "                           .count()"
   ]
  },
  {
   "cell_type": "code",
   "execution_count": 26,
   "metadata": {
    "scrolled": false
   },
   "outputs": [
    {
     "data": {
      "text/plain": [
       "Text(0, 0.5, '#Papers')"
      ]
     },
     "execution_count": 26,
     "metadata": {},
     "output_type": "execute_result"
    },
    {
     "data": {
      "image/png": "[encoded data removed]",
      "text/plain": [
       "<Figure size 432x288 with 1 Axes>"
      ]
     },
     "metadata": {
      "needs_background": "light"
     },
     "output_type": "display_data"
    }
   ],
   "source": [
    "ax = papers_per_year(dblp).plot(rot=-45)\n",
    "ax.set_xlabel('Year')\n",
    "ax.set_ylabel('#Papers')"
   ]
  },
  {
   "cell_type": "markdown",
   "metadata": {},
   "source": [
    "**The xtics labels look weird.**   \n",
    "Basically, the `year` attribute is noisy: there are **strings**, **html tags**, **shorthand notation** etc.   \n",
    "Let's clean it using various heuristics!"
   ]
  },
  {
   "cell_type": "code",
   "execution_count": 27,
   "metadata": {},
   "outputs": [],
   "source": [
    "def clean_dblp(old_dblp):\n",
    "\n",
    "    def clean_year(year):\n",
    "            try:\n",
    "                if '?' in year:\n",
    "                    return '?'\n",
    "                elif year.startswith('<i>'):\n",
    "                    return int(float(re.search(r'<i[^>]*>([^<]+)</i>',year).group(1)))\n",
    "                elif year.startswith('<em>'):\n",
    "                    return int(float(re.search(r'<em[^>]*>([^<]+)</em>',year).group(1)))\n",
    "                elif year.startswith('\\''):\n",
    "                    year = int(year[1:])\n",
    "                    if year < 20:\n",
    "                        return 2000 + year\n",
    "                    else:\n",
    "                        return 1900 + year\n",
    "                else:\n",
    "                    return int(float(year))\n",
    "            except:\n",
    "                print(year)\n",
    "                return year\n",
    "\n",
    "    dblp = old_dblp.copy()\n",
    "    dblp.year = dblp.year.apply(clean_year)\n",
    "    return dblp\n",
    "\n",
    "dblp = clean_dblp(dblp)\n",
    "dblp_auth = author_centric_efficient(dblp)"
   ]
  },
  {
   "cell_type": "code",
   "execution_count": 28,
   "metadata": {},
   "outputs": [
    {
     "data": {
      "text/plain": [
       "Text(0, 0.5, '#Papers')"
      ]
     },
     "execution_count": 28,
     "metadata": {},
     "output_type": "execute_result"
    },
    {
     "data": {
      "image/png": "[encoded data removed]",
      "text/plain": [
       "<Figure size 432x288 with 1 Axes>"
      ]
     },
     "metadata": {
      "needs_background": "light"
     },
     "output_type": "display_data"
    }
   ],
   "source": [
    "ax = papers_per_year(dblp).plot(rot=-45)\n",
    "# default number of tics in MaxNLocator is 10. With integer=True, tics will only take integer values.\n",
    "ax.xaxis.set_major_locator(MaxNLocator(integer=True))\n",
    "ax.set_xlabel('Year')\n",
    "ax.set_ylabel('#Papers')"
   ]
  },
  {
   "cell_type": "markdown",
   "metadata": {},
   "source": [
    "***A3.3***   \n",
    "**Plotting the number of 'ML papers' published per year**"
   ]
  },
  {
   "cell_type": "code",
   "execution_count": 29,
   "metadata": {},
   "outputs": [
    {
     "data": {
      "text/plain": [
       "Text(0.5, 1.0, 'ML Papers')"
      ]
     },
     "execution_count": 29,
     "metadata": {},
     "output_type": "execute_result"
    },
    {
     "data": {
      "image/png": "[encoded data removed]",
      "text/plain": [
       "<Figure size 432x288 with 1 Axes>"
      ]
     },
     "metadata": {
      "needs_background": "light"
     },
     "output_type": "display_data"
    }
   ],
   "source": [
    "mlconf = ['icml', 'nips']\n",
    "dblp_ml = dblp[dblp['conference'].isin(mlconf)]\n",
    "ax = papers_per_year(dblp_ml).plot(rot=-45)\n",
    "ax.set_xlabel('Year')\n",
    "ax.set_ylabel('#Papers')\n",
    "ax.set_title('ML Papers')"
   ]
  },
  {
   "cell_type": "markdown",
   "metadata": {},
   "source": [
    "**Observations from the plot:**\n",
    "1. There is a clear *'dip'* in the number of ML papers for the years 2010 and 2011.\n",
    "2. Also note the *'?'* and the *'dip'* at the end in the plot from cell number 28.\n",
    "3. This means that there is something wrong in the values for the `year` attribute for either *'NIPS'* or *'ICML'*.\n",
    "4. Let us analyze the number of papers per year independently for both *'NIPS'* and *'ICML'* to clearly identify the issue."
   ]
  },
  {
   "cell_type": "code",
   "execution_count": 30,
   "metadata": {},
   "outputs": [
    {
     "data": {
      "image/png": "[encoded data removed]",
      "text/plain": [
       "<Figure size 720x288 with 2 Axes>"
      ]
     },
     "metadata": {
      "needs_background": "light"
     },
     "output_type": "display_data"
    }
   ],
   "source": [
    "dblp_nips = papers_per_year(dblp_ml[dblp.conference=='nips'])\n",
    "dblp_icml = papers_per_year(dblp_ml[dblp.conference=='icml'])\n",
    "f, (ax1, ax2) = plt.subplots(1, 2, figsize=(10,4))\n",
    "dblp_nips.plot(ax=ax1,legend=True,rot=-45)\n",
    "ax1.set_title('NIPS Papers')\n",
    "ax1.set_xlabel('Year')\n",
    "ax1.set_ylabel('#Papers')\n",
    "dblp_icml.plot(ax=ax2,legend=True,rot=-45)\n",
    "ax2.set_title('ICML Papers')\n",
    "ax2.set_xlabel('Year')\n",
    "ax2.set_ylabel('#Papers')\n",
    "plt.show()"
   ]
  },
  {
   "cell_type": "code",
   "execution_count": 31,
   "metadata": {},
   "outputs": [
    {
     "data": {
      "text/plain": [
       "array([2014, 1988, 2005, 1996, 2012, 2016, 2003, 2015, 2013, 2018, '?',\n",
       "       2000, 2009, 1997, 1993, 1992, 1991, 2002, 1998, 2006, 2008, 2004,\n",
       "       1999, 1989, 1995, 2001, 2017, 1987, 2007, 1990, 1994], dtype=object)"
      ]
     },
     "execution_count": 31,
     "metadata": {},
     "output_type": "execute_result"
    }
   ],
   "source": [
    "dblp[dblp.conference == 'nips'].year.unique()"
   ]
  },
  {
   "cell_type": "markdown",
   "metadata": {},
   "source": [
    "**Observations from the plot:**\n",
    "1. Notice the *'?'* and the *'dip'* at the end in the plot for NIPS papers.\n",
    "2. This is indicative of missing values in the `year` field for NIPS papers from the years 2010 and 2011 (plot in cell number 29)"
   ]
  },
  {
   "cell_type": "markdown",
   "metadata": {},
   "source": [
    "***A3.4***   \n",
    "**Scraping NIPS proceedings**"
   ]
  },
  {
   "cell_type": "code",
   "execution_count": 32,
   "metadata": {
    "scrolled": true
   },
   "outputs": [
    {
     "name": "stdout",
     "output_type": "stream",
     "text": [
      "1987\n",
      "1988\n",
      "1989\n",
      "1990\n",
      "1991\n",
      "1992\n",
      "1993\n",
      "1994\n",
      "1995\n",
      "1996\n",
      "1997\n",
      "1998\n",
      "1999\n",
      "2000\n",
      "2001\n",
      "2002\n",
      "2003\n",
      "2004\n",
      "2005\n",
      "2006\n",
      "2007\n",
      "2008\n",
      "2009\n",
      "2010\n",
      "2011\n",
      "2012\n",
      "2013\n",
      "2014\n",
      "2015\n",
      "2016\n",
      "2017\n",
      "2018\n"
     ]
    },
    {
     "data": {
      "text/html": [
       "<div>\n",
       "<style scoped>\n",
       "    .dataframe tbody tr th:only-of-type {\n",
       "        vertical-align: middle;\n",
       "    }\n",
       "\n",
       "    .dataframe tbody tr th {\n",
       "        vertical-align: top;\n",
       "    }\n",
       "\n",
       "    .dataframe thead th {\n",
       "        text-align: right;\n",
       "    }\n",
       "</style>\n",
       "<table border=\"1\" class=\"dataframe\">\n",
       "  <thead>\n",
       "    <tr style=\"text-align: right;\">\n",
       "      <th></th>\n",
       "      <th>year</th>\n",
       "      <th>authors</th>\n",
       "      <th>paper title</th>\n",
       "      <th>pdf file</th>\n",
       "    </tr>\n",
       "  </thead>\n",
       "  <tbody>\n",
       "    <tr>\n",
       "      <td>0</td>\n",
       "      <td>1987</td>\n",
       "      <td>[Yaser S. Abu-Mostafa]</td>\n",
       "      <td>Connectivity Versus Entropy</td>\n",
       "      <td>/paper/63-connectivity-versus-entropy</td>\n",
       "    </tr>\n",
       "    <tr>\n",
       "      <td>1</td>\n",
       "      <td>1987</td>\n",
       "      <td>[Joshua Alspector, Robert B. Allen, Victor Hu,...</td>\n",
       "      <td>Stochastic Learning Networks and their Electro...</td>\n",
       "      <td>/paper/80-stochastic-learning-networks-and-the...</td>\n",
       "    </tr>\n",
       "    <tr>\n",
       "      <td>2</td>\n",
       "      <td>1987</td>\n",
       "      <td>[Amir F. Atiya]</td>\n",
       "      <td>Learning on a General Network</td>\n",
       "      <td>/paper/9-learning-on-a-general-network</td>\n",
       "    </tr>\n",
       "    <tr>\n",
       "      <td>3</td>\n",
       "      <td>1987</td>\n",
       "      <td>[Les E. Atlas, Toshiteru Homma, Robert J. Mark...</td>\n",
       "      <td>An Artificial Neural Network for Spatio-Tempor...</td>\n",
       "      <td>/paper/20-an-artificial-neural-network-for-spa...</td>\n",
       "    </tr>\n",
       "    <tr>\n",
       "      <td>4</td>\n",
       "      <td>1987</td>\n",
       "      <td>[Pierre Baldi, Santosh S. Venkatesh]</td>\n",
       "      <td>On Properties of Networks of Neuron-Like Elements</td>\n",
       "      <td>/paper/66-on-properties-of-networks-of-neuron-...</td>\n",
       "    </tr>\n",
       "  </tbody>\n",
       "</table>\n",
       "</div>"
      ],
      "text/plain": [
       "   year                                            authors  \\\n",
       "0  1987                             [Yaser S. Abu-Mostafa]   \n",
       "1  1987  [Joshua Alspector, Robert B. Allen, Victor Hu,...   \n",
       "2  1987                                    [Amir F. Atiya]   \n",
       "3  1987  [Les E. Atlas, Toshiteru Homma, Robert J. Mark...   \n",
       "4  1987               [Pierre Baldi, Santosh S. Venkatesh]   \n",
       "\n",
       "                                         paper title  \\\n",
       "0                        Connectivity Versus Entropy   \n",
       "1  Stochastic Learning Networks and their Electro...   \n",
       "2                      Learning on a General Network   \n",
       "3  An Artificial Neural Network for Spatio-Tempor...   \n",
       "4  On Properties of Networks of Neuron-Like Elements   \n",
       "\n",
       "                                            pdf file  \n",
       "0              /paper/63-connectivity-versus-entropy  \n",
       "1  /paper/80-stochastic-learning-networks-and-the...  \n",
       "2             /paper/9-learning-on-a-general-network  \n",
       "3  /paper/20-an-artificial-neural-network-for-spa...  \n",
       "4  /paper/66-on-properties-of-networks-of-neuron-...  "
      ]
     },
     "execution_count": 32,
     "metadata": {},
     "output_type": "execute_result"
    }
   ],
   "source": [
    "urls = ['https://papers.nips.cc/book/neural-information-processing-systems-1987'] + ['https://papers.nips.cc/book/advances-in-neural-information-processing-systems-%d-%d' % (i,j) for i, j in zip(range(1,32),range(1988, 2019))]\n",
    "\n",
    "nips = []\n",
    "year = 1987\n",
    "\n",
    "for url in urls: \n",
    "    print(year)\n",
    "    response = get(url)\n",
    "    html_soup = BeautifulSoup(response.text, 'html.parser')\n",
    "    txt = html_soup.find_all(class_ = \"author\")\n",
    "    \n",
    "    for item in html_soup.find_all('li')[1:]:    \n",
    "        entry = {}\n",
    "        entry['year'] = year\n",
    "        entry['authors'] = [author.text for author in item.find_all(class_ = \"author\")]\n",
    "        entry['paper title'] = item.find_all('a')[0].text\n",
    "        entry['pdf file'] = item.find_all('a')[0]['href']\n",
    "        nips.append(entry)\n",
    "\n",
    "    year += 1\n",
    "    \n",
    "nips = pd.DataFrame(nips)\n",
    "nips.head()"
   ]
  },
  {
   "cell_type": "markdown",
   "metadata": {},
   "source": [
    "Complete the `year` attribute of the *'DBLP'* dataframe with data scraped from the *'NIPS proceedings'* website\n",
    "1. There was a '.' in the paper titles in DBLP in some cases. Thus, the first step is to remove the '.' from the paper titles in both the *'NIPS'* and the *'DBLP'* dataframes.\n",
    "2. Perform a *'left join'* of the two dataframes with `title` attribute as the key.\n",
    "3. Replace the *'?'* entries in the `year` attribute of the *'DBLP'* dataframe with the entries from the *'NIPS'* dataframe."
   ]
  },
  {
   "cell_type": "code",
   "execution_count": 33,
   "metadata": {},
   "outputs": [],
   "source": [
    "dblp.title = dblp.title.apply(lambda t: t.lower().strip().replace('.', ''))\n",
    "nips['paper title'] = nips['paper title'].apply(lambda t: t.lower().strip().replace('.', ''))\n",
    "dblp = dblp.merge(nips, how='left', left_on='title', right_on='paper title', suffixes=('', '_nips'))[['authors', 'year', 'title', 'conference', 'year_nips']]\n",
    "dblp.head()\n",
    "dblp.year = dblp.year.apply(lambda x: np.nan if x == '?' else x)\n",
    "dblp.year = dblp.year.fillna(dblp.year_nips)\n",
    "dblp = dblp.drop('year_nips', axis=1)"
   ]
  },
  {
   "cell_type": "code",
   "execution_count": 34,
   "metadata": {
    "scrolled": true
   },
   "outputs": [
    {
     "data": {
      "text/html": [
       "<div>\n",
       "<style scoped>\n",
       "    .dataframe tbody tr th:only-of-type {\n",
       "        vertical-align: middle;\n",
       "    }\n",
       "\n",
       "    .dataframe tbody tr th {\n",
       "        vertical-align: top;\n",
       "    }\n",
       "\n",
       "    .dataframe thead th {\n",
       "        text-align: right;\n",
       "    }\n",
       "</style>\n",
       "<table border=\"1\" class=\"dataframe\">\n",
       "  <thead>\n",
       "    <tr style=\"text-align: right;\">\n",
       "      <th></th>\n",
       "      <th>authors</th>\n",
       "      <th>year</th>\n",
       "      <th>title</th>\n",
       "      <th>conference</th>\n",
       "    </tr>\n",
       "  </thead>\n",
       "  <tbody>\n",
       "    <tr>\n",
       "      <td>0</td>\n",
       "      <td>[Yoshinori Kuno, Yasukazu Okamoto, Satoshi Okada]</td>\n",
       "      <td>1990.0</td>\n",
       "      <td>object recognition using a feature search stra...</td>\n",
       "      <td>iccv</td>\n",
       "    </tr>\n",
       "    <tr>\n",
       "      <td>1</td>\n",
       "      <td>[Sundar Vedula, Simon Baker, Peter Rander, Rob...</td>\n",
       "      <td>1999.0</td>\n",
       "      <td>three-dimensional scene flow</td>\n",
       "      <td>iccv</td>\n",
       "    </tr>\n",
       "    <tr>\n",
       "      <td>2</td>\n",
       "      <td>[Étienne Mémin, Patrick Pérez]</td>\n",
       "      <td>1999.0</td>\n",
       "      <td>fluid motion recovery by coupling dense and pa...</td>\n",
       "      <td>iccv</td>\n",
       "    </tr>\n",
       "    <tr>\n",
       "      <td>3</td>\n",
       "      <td>[Sven J. Dickinson, Alex Pentland, Azriel Rose...</td>\n",
       "      <td>1990.0</td>\n",
       "      <td>qualitative 3-d shape reconstruction using dis...</td>\n",
       "      <td>iccv</td>\n",
       "    </tr>\n",
       "    <tr>\n",
       "      <td>4</td>\n",
       "      <td>[Avi Singh, Larry Yang, Sergey Levine]</td>\n",
       "      <td>2017.0</td>\n",
       "      <td>gplac: generalizing vision-based robotic skill...</td>\n",
       "      <td>iccv</td>\n",
       "    </tr>\n",
       "  </tbody>\n",
       "</table>\n",
       "</div>"
      ],
      "text/plain": [
       "                                             authors    year  \\\n",
       "0  [Yoshinori Kuno, Yasukazu Okamoto, Satoshi Okada]  1990.0   \n",
       "1  [Sundar Vedula, Simon Baker, Peter Rander, Rob...  1999.0   \n",
       "2                     [Étienne Mémin, Patrick Pérez]  1999.0   \n",
       "3  [Sven J. Dickinson, Alex Pentland, Azriel Rose...  1990.0   \n",
       "4             [Avi Singh, Larry Yang, Sergey Levine]  2017.0   \n",
       "\n",
       "                                               title conference  \n",
       "0  object recognition using a feature search stra...       iccv  \n",
       "1                       three-dimensional scene flow       iccv  \n",
       "2  fluid motion recovery by coupling dense and pa...       iccv  \n",
       "3  qualitative 3-d shape reconstruction using dis...       iccv  \n",
       "4  gplac: generalizing vision-based robotic skill...       iccv  "
      ]
     },
     "execution_count": 34,
     "metadata": {},
     "output_type": "execute_result"
    }
   ],
   "source": [
    "dblp.head()"
   ]
  },
  {
   "cell_type": "markdown",
   "metadata": {},
   "source": [
    "**Redo the plot for A3.3**"
   ]
  },
  {
   "cell_type": "code",
   "execution_count": 35,
   "metadata": {},
   "outputs": [
    {
     "data": {
      "text/plain": [
       "Text(0.5, 1.0, 'ML Papers')"
      ]
     },
     "execution_count": 35,
     "metadata": {},
     "output_type": "execute_result"
    },
    {
     "data": {
      "image/png": "[encoded data removed]",
      "text/plain": [
       "<Figure size 432x288 with 1 Axes>"
      ]
     },
     "metadata": {
      "needs_background": "light"
     },
     "output_type": "display_data"
    }
   ],
   "source": [
    "mlconf = ['icml', 'nips']\n",
    "dblp_ml = dblp[dblp['conference'].isin(mlconf)]\n",
    "ax = papers_per_year(dblp_ml).plot(rot=-45)\n",
    "ax.set_xlabel('Year')\n",
    "ax.set_ylabel('#Papers')\n",
    "ax.set_title('ML Papers')"
   ]
  },
  {
   "cell_type": "markdown",
   "metadata": {},
   "source": [
    "**Issue Fixed!**"
   ]
  },
  {
   "cell_type": "markdown",
   "metadata": {},
   "source": [
    "**Redo the plot for A3.2**"
   ]
  },
  {
   "cell_type": "code",
   "execution_count": 36,
   "metadata": {},
   "outputs": [
    {
     "data": {
      "text/plain": [
       "Text(0, 0.5, '#Papers')"
      ]
     },
     "execution_count": 36,
     "metadata": {},
     "output_type": "execute_result"
    },
    {
     "data": {
      "image/png": "[encoded data removed]",
      "text/plain": [
       "<Figure size 432x288 with 1 Axes>"
      ]
     },
     "metadata": {
      "needs_background": "light"
     },
     "output_type": "display_data"
    }
   ],
   "source": [
    "ax = papers_per_year(dblp).plot(rot=-45)\n",
    "# default number of tics in MaxNLocator is 10. With integer=True, tics will only take integer values.\n",
    "ax.xaxis.set_major_locator(MaxNLocator(integer=True))\n",
    "ax.set_xlabel('Year')\n",
    "ax.set_ylabel('#Papers')"
   ]
  },
  {
   "cell_type": "markdown",
   "metadata": {},
   "source": [
    "**Issue Fixed!**"
   ]
  },
  {
   "cell_type": "markdown",
   "metadata": {},
   "source": [
    "There might still be some **missing values (NaNs)** in the `year` attribute. These belong to the papers for which we cannot find any information in the NIPS proceedings.   \n",
    "The safest thing to do is to **ignore these papers**, and **cascade the changes to the author-centric dataframe** as well."
   ]
  },
  {
   "cell_type": "code",
   "execution_count": 37,
   "metadata": {},
   "outputs": [
    {
     "data": {
      "text/plain": [
       "authors       False\n",
       "year           True\n",
       "title         False\n",
       "conference    False\n",
       "dtype: bool"
      ]
     },
     "execution_count": 37,
     "metadata": {},
     "output_type": "execute_result"
    }
   ],
   "source": [
    "dblp.isna().any()"
   ]
  },
  {
   "cell_type": "code",
   "execution_count": 38,
   "metadata": {},
   "outputs": [],
   "source": [
    "dblp = dblp.dropna()\n",
    "dblp_auth = author_centric_efficient(dblp)\n",
    "dblp.to_csv('dblp_papers_df.tsv.bz2', sep='\\t', index=False)\n",
    "dblp_auth.to_csv('dblp_author_df.tsv.bz2', sep='\\t', index=False)"
   ]
  },
  {
   "cell_type": "markdown",
   "metadata": {
    "colab_type": "text",
    "id": "0h0Zw8cPTyEp"
   },
   "source": [
    "### A4. Author activity\n",
    "\n",
    "For each author, calculate their normalized paper count, defined as the total number of papers divided by the author’s period of activity. An author’s period of activity is defined as the number of years between the earliest and latest papers of this author. Plot the distribution of the normalized paper count. What is the appropriate scale for the axes? Does the distribution (roughly) follow a particular law, and if yes, which one?"
   ]
  },
  {
   "cell_type": "code",
   "execution_count": 39,
   "metadata": {
    "colab": {},
    "colab_type": "code",
    "id": "dGV5GAndl6LE"
   },
   "outputs": [],
   "source": [
    "def compute_activity(years):\n",
    "    years = list(map(int, years))\n",
    "    return (max(years) - min(years) + 1)\n",
    "\n",
    "activity = dblp_auth.groupby('author')['year'].apply(compute_activity)\n",
    "normalized_paper_count = dblp_auth.groupby('author')['title'].count() / activity"
   ]
  },
  {
   "cell_type": "code",
   "execution_count": 40,
   "metadata": {
    "scrolled": false
   },
   "outputs": [
    {
     "data": {
      "image/png": "[encoded data removed]",
      "text/plain": [
       "<Figure size 720x288 with 2 Axes>"
      ]
     },
     "metadata": {
      "needs_background": "light"
     },
     "output_type": "display_data"
    }
   ],
   "source": [
    "fig, (ax1, ax2) = plt.subplots(1,2,figsize=(10,4))\n",
    "normalized_paper_count.hist(ax=ax1)\n",
    "ax1.set_ylabel('#Authors')\n",
    "ax1.set_xlabel('Normalized Paper Count')\n",
    "normalized_paper_count.hist(ax=ax2)\n",
    "ax2.set_yscale('log')\n",
    "ax2.set_ylabel('#Authors')\n",
    "ax2.set_xlabel('Normalized Paper Count')\n",
    "\n",
    "xt = ax2.get_xticks()\n",
    "xmin, xmax = 0, max(xt)  \n",
    "lnspc = np.linspace(xmin, xmax, len(normalized_paper_count))\n",
    "ax1.set_ylim(top=100000); ax1.set_xlim(right=10)\n",
    "ax2.set_ylim(top=100000); ax2.set_xlim(right=10)\n",
    "\n",
    "# lets try the exponential distribution first\n",
    "m, s = stats.expon.fit(normalized_paper_count) # get estimates of distribution parameters\n",
    "pdf_g = stats.expon.pdf(lnspc, scale=s)\n",
    "ax1.plot(lnspc, pdf_g * len(normalized_paper_count), label=\"Exponential\")\n",
    "ax2.plot(lnspc, pdf_g * len(normalized_paper_count), label=\"Exponential\")\n",
    "\n",
    "# lets also try powerlaw distribution\n",
    "a, m, s = stats.powerlaw.fit(normalized_paper_count) # get estimates of distribution parameters\n",
    "pdf_g = stats.powerlaw.pdf(lnspc, a, scale=s)\n",
    "ax1.plot(lnspc, pdf_g * len(normalized_paper_count), label=\"Powerlaw\")\n",
    "ax2.plot(lnspc, pdf_g * len(normalized_paper_count), label=\"Powerlaw\")\n",
    "\n",
    "ax1.legend(); ax2.legend()\n",
    "plt.show()"
   ]
  },
  {
   "cell_type": "markdown",
   "metadata": {},
   "source": [
    "**Observation:**   \n",
    "From the first plot (*on the left*), we have some initial evidence that the distribution seems similar to either *exponential* or *powerlaw* distribution. To understand this better, we redo the plot with *y-axis at log scale*. In a log-linear plot, a linear curvature is indicative of an *exponential* distribution, while a logarithmic curvature is indicative of a *powerlaw*.\n",
    "\n",
    "*Note: Since, visually (from the right plot) it is neither clearly a linear curvature and nor a logarithmic (sub-linear) curvature, we accept both 'powerlaw' and 'exponential' as answers.*\n",
    "\n",
    "Furthermore, we also tried to fit both exponential and powerlaw distributions to the data. From this exercise, it is clear that exponential gives a better fit. However, since these aspects were covered only in the lectures from *Week-5 (Read the stats carefully)*, we don't expect you to be able to come up with this deeper analysis for HW-1."
   ]
  },
  {
   "cell_type": "markdown",
   "metadata": {
    "colab_type": "text",
    "id": "ZM7pH8Y_UF3H"
   },
   "source": [
    "## Task B. Ranking authors\n",
    "\n",
    "As you may know, there exist rankings for universities, which represent their relative quality and are used to compare the performance of different universities. In the same vein, there are rankings for conferences and journals, which represent the importance and impact of each conference or journal, and therefore allow for approximate comparisons. In this part, you will rank authors based on different aspects of their research output.\n",
    "\n",
    "### B1. A Naïve Score\n",
    "\n",
    "In the absence of citation counts, it is hard to objectively rank the authors based on the impact of their contributions to the field of AI research. A naïve way would be to rank them based on their number of published papers. Obtain such a ranking and analyze your result. Identify and explain some obvious limitations of this scheme."
   ]
  },
  {
   "cell_type": "code",
   "execution_count": 41,
   "metadata": {},
   "outputs": [
    {
     "data": {
      "text/html": [
       "<div>\n",
       "<style scoped>\n",
       "    .dataframe tbody tr th:only-of-type {\n",
       "        vertical-align: middle;\n",
       "    }\n",
       "\n",
       "    .dataframe tbody tr th {\n",
       "        vertical-align: top;\n",
       "    }\n",
       "\n",
       "    .dataframe thead th {\n",
       "        text-align: right;\n",
       "    }\n",
       "</style>\n",
       "<table border=\"1\" class=\"dataframe\">\n",
       "  <thead>\n",
       "    <tr style=\"text-align: right;\">\n",
       "      <th></th>\n",
       "      <th>papers</th>\n",
       "    </tr>\n",
       "    <tr>\n",
       "      <th>author</th>\n",
       "      <th></th>\n",
       "    </tr>\n",
       "  </thead>\n",
       "  <tbody>\n",
       "    <tr>\n",
       "      <td>Luc Van Gool</td>\n",
       "      <td>220</td>\n",
       "    </tr>\n",
       "    <tr>\n",
       "      <td>Toshio Fukuda</td>\n",
       "      <td>196</td>\n",
       "    </tr>\n",
       "    <tr>\n",
       "      <td>Thomas S. Huang</td>\n",
       "      <td>186</td>\n",
       "    </tr>\n",
       "    <tr>\n",
       "      <td>Michael I. Jordan</td>\n",
       "      <td>168</td>\n",
       "    </tr>\n",
       "    <tr>\n",
       "      <td>Trevor Darrell</td>\n",
       "      <td>158</td>\n",
       "    </tr>\n",
       "  </tbody>\n",
       "</table>\n",
       "</div>"
      ],
      "text/plain": [
       "                   papers\n",
       "author                   \n",
       "Luc Van Gool          220\n",
       "Toshio Fukuda         196\n",
       "Thomas S. Huang       186\n",
       "Michael I. Jordan     168\n",
       "Trevor Darrell        158"
      ]
     },
     "execution_count": 41,
     "metadata": {},
     "output_type": "execute_result"
    }
   ],
   "source": [
    "simple_ranking = dblp_auth[['author', 'title']].rename(columns={'title':'papers'}) \\\n",
    "                                               .groupby('author') \\\n",
    "                                               .count() \\\n",
    "                                               .sort_values(by='papers', ascending=False)\n",
    "simple_ranking.head()"
   ]
  },
  {
   "cell_type": "code",
   "execution_count": 42,
   "metadata": {
    "scrolled": false
   },
   "outputs": [
    {
     "data": {
      "text/plain": [
       "Text(0.5, 0, '#Papers')"
      ]
     },
     "execution_count": 42,
     "metadata": {},
     "output_type": "execute_result"
    },
    {
     "data": {
      "image/png": "[encoded data removed]",
      "text/plain": [
       "<Figure size 432x288 with 1 Axes>"
      ]
     },
     "metadata": {
      "needs_background": "light"
     },
     "output_type": "display_data"
    }
   ],
   "source": [
    "ax = simple_ranking.head(20).plot(kind=\"barh\")\n",
    "ax.set_ylabel('Author')\n",
    "ax.set_xlabel('#Papers')"
   ]
  },
  {
   "cell_type": "markdown",
   "metadata": {},
   "source": [
    "**Obvious limitations:**\n",
    "1. An author can be ranked quite high by just publishing in low-quality conferences and journals\n",
    "2. A related point. Usually, it takes much longer to get one paper in a top-venue. Thus, these papers should weigh more in deciding author ranks."
   ]
  },
  {
   "cell_type": "markdown",
   "metadata": {},
   "source": [
    "### B2. H5-index\n",
    "\n",
    "Another way to score and rank authors could be based on the quality of the conferences and journals where they publish their papers. For this task, you have to use the H5-index score from AMiner (https://aminer.org/ranks/conf) (another database of scholarly publications), which captures the quality of academic conferences: the higher the H5-index, the better the conference.\n",
    "1. Load the AMiner dataset ( *'aminer_ai.tsv'* available in the folder ``data/``), which contains H5-index values for AI conferences. Load it into a new Pandas dataframe, and join it with the author-centric DBLP dataframe.\n",
    "2. Calculate a *'new'* author ranking (give each author a score, by which the authors are then sorted in order to obtain the ranking), where each author's score is the sum of the H5-indices of all their papers (the H5-index of a paper being the H5-index of the conference it is published in).\n",
    "3. Analyze your new, H5-index-based author ranking and explain how and why your results are different from the previous ranking. Do you see any differences in the top-20 authors based on the H5-index-based ranking and the one produced using publication counts? If yes, list the authors that are ranked in the top 20 based on publication counts but absent in the top 20 based on the H5-index-based ranking. Identify the ranks of these authors in the ranking produced by the H5-index based ranking scheme.\n",
    "4. Now, take the authors in the file `data/list_of_selected_authors.txt`, and compute their rankings using the two (naïve and H5-index-based) ranking schemes. What do you observe? Explain the potential dangers of the naïve, paper-count-based score.\n",
    "5. On the flip side, do you see any potential dangers of using the H5-index-based score?   \n",
    "_Hint: Analyze the conferences in which the top ranked authors publish. Investigate the effect of the conferences in which these authors publish more frequently on the obtained ranking._"
   ]
  },
  {
   "cell_type": "markdown",
   "metadata": {},
   "source": [
    "***B2.1***   \n",
    "**Loading AMiner data**"
   ]
  },
  {
   "cell_type": "code",
   "execution_count": 43,
   "metadata": {},
   "outputs": [],
   "source": [
    "aminer = pd.read_csv('data/aminer_ai.csv', sep=';').rename(columns={'Short Name': 'short_name','H5-Index': 'h5_index'})\n",
    "aminer['short_name'] = aminer['short_name'].str.lower()"
   ]
  },
  {
   "cell_type": "markdown",
   "metadata": {},
   "source": [
    "Perform an **inner join** between *'dblp_auth'* and *'aminer'* dataframes"
   ]
  },
  {
   "cell_type": "code",
   "execution_count": 44,
   "metadata": {},
   "outputs": [],
   "source": [
    "auth_paper_ranks = pd.merge(dblp_auth, aminer[['short_name', 'h5_index']], left_on='conference', right_on='short_name', how='inner')\n",
    "auth_paper_ranks = auth_paper_ranks.drop(['short_name'], axis=1)"
   ]
  },
  {
   "cell_type": "markdown",
   "metadata": {},
   "source": [
    "***B2.2***   \n",
    "**The H5-Index-based ranking**"
   ]
  },
  {
   "cell_type": "code",
   "execution_count": 45,
   "metadata": {
    "scrolled": true
   },
   "outputs": [
    {
     "data": {
      "text/plain": [
       "<matplotlib.axes._subplots.AxesSubplot at 0x1a3abddcc0>"
      ]
     },
     "execution_count": 45,
     "metadata": {},
     "output_type": "execute_result"
    },
    {
     "data": {
      "image/png": "[encoded data removed]",
      "text/plain": [
       "<Figure size 432x288 with 1 Axes>"
      ]
     },
     "metadata": {
      "needs_background": "light"
     },
     "output_type": "display_data"
    }
   ],
   "source": [
    "h5index_ranking = auth_paper_ranks.groupby('author').sum().sort_values(by='h5_index', ascending=False).drop('year',axis=1)\n",
    "h5index_ranking.head(20).plot(kind='barh')"
   ]
  },
  {
   "cell_type": "code",
   "execution_count": 46,
   "metadata": {},
   "outputs": [
    {
     "data": {
      "text/html": [
       "<div>\n",
       "<style scoped>\n",
       "    .dataframe tbody tr th:only-of-type {\n",
       "        vertical-align: middle;\n",
       "    }\n",
       "\n",
       "    .dataframe tbody tr th {\n",
       "        vertical-align: top;\n",
       "    }\n",
       "\n",
       "    .dataframe thead th {\n",
       "        text-align: right;\n",
       "    }\n",
       "</style>\n",
       "<table border=\"1\" class=\"dataframe\">\n",
       "  <thead>\n",
       "    <tr style=\"text-align: right;\">\n",
       "      <th></th>\n",
       "      <th>h5_index</th>\n",
       "    </tr>\n",
       "    <tr>\n",
       "      <th>author</th>\n",
       "      <th></th>\n",
       "    </tr>\n",
       "  </thead>\n",
       "  <tbody>\n",
       "    <tr>\n",
       "      <td>Luc Van Gool</td>\n",
       "      <td>18695</td>\n",
       "    </tr>\n",
       "    <tr>\n",
       "      <td>Thomas S. Huang</td>\n",
       "      <td>14052</td>\n",
       "    </tr>\n",
       "    <tr>\n",
       "      <td>Xiaoou Tang</td>\n",
       "      <td>13190</td>\n",
       "    </tr>\n",
       "    <tr>\n",
       "      <td>Trevor Darrell</td>\n",
       "      <td>12763</td>\n",
       "    </tr>\n",
       "    <tr>\n",
       "      <td>Shuicheng Yan</td>\n",
       "      <td>12448</td>\n",
       "    </tr>\n",
       "  </tbody>\n",
       "</table>\n",
       "</div>"
      ],
      "text/plain": [
       "                 h5_index\n",
       "author                   \n",
       "Luc Van Gool        18695\n",
       "Thomas S. Huang     14052\n",
       "Xiaoou Tang         13190\n",
       "Trevor Darrell      12763\n",
       "Shuicheng Yan       12448"
      ]
     },
     "execution_count": 46,
     "metadata": {},
     "output_type": "execute_result"
    }
   ],
   "source": [
    "h5index_ranking.head()"
   ]
  },
  {
   "cell_type": "markdown",
   "metadata": {},
   "source": [
    "***B2.3***   \n",
    "**Identifying the ranks of top-20 authors based on #papers in the h5-index-based ranking scheme**"
   ]
  },
  {
   "cell_type": "code",
   "execution_count": 47,
   "metadata": {},
   "outputs": [
    {
     "data": {
      "text/html": [
       "<div>\n",
       "<style scoped>\n",
       "    .dataframe tbody tr th:only-of-type {\n",
       "        vertical-align: middle;\n",
       "    }\n",
       "\n",
       "    .dataframe tbody tr th {\n",
       "        vertical-align: top;\n",
       "    }\n",
       "\n",
       "    .dataframe thead th {\n",
       "        text-align: right;\n",
       "    }\n",
       "</style>\n",
       "<table border=\"1\" class=\"dataframe\">\n",
       "  <thead>\n",
       "    <tr style=\"text-align: right;\">\n",
       "      <th></th>\n",
       "      <th>index_in_naive</th>\n",
       "      <th>author</th>\n",
       "      <th>papers</th>\n",
       "      <th>index_in_h5-index</th>\n",
       "      <th>h5_index</th>\n",
       "    </tr>\n",
       "  </thead>\n",
       "  <tbody>\n",
       "    <tr>\n",
       "      <td>8</td>\n",
       "      <td>8</td>\n",
       "      <td>Dan Roth</td>\n",
       "      <td>144</td>\n",
       "      <td>60</td>\n",
       "      <td>5933</td>\n",
       "    </tr>\n",
       "    <tr>\n",
       "      <td>10</td>\n",
       "      <td>10</td>\n",
       "      <td>Vijay Kumar 0001</td>\n",
       "      <td>143</td>\n",
       "      <td>23</td>\n",
       "      <td>8334</td>\n",
       "    </tr>\n",
       "    <tr>\n",
       "      <td>11</td>\n",
       "      <td>11</td>\n",
       "      <td>Wolfram Burgard</td>\n",
       "      <td>141</td>\n",
       "      <td>30</td>\n",
       "      <td>7879</td>\n",
       "    </tr>\n",
       "    <tr>\n",
       "      <td>12</td>\n",
       "      <td>12</td>\n",
       "      <td>Eric P. Xing</td>\n",
       "      <td>137</td>\n",
       "      <td>32</td>\n",
       "      <td>7812</td>\n",
       "    </tr>\n",
       "    <tr>\n",
       "      <td>13</td>\n",
       "      <td>13</td>\n",
       "      <td>Roland Siegwart</td>\n",
       "      <td>137</td>\n",
       "      <td>27</td>\n",
       "      <td>8111</td>\n",
       "    </tr>\n",
       "    <tr>\n",
       "      <td>14</td>\n",
       "      <td>14</td>\n",
       "      <td>Christopher D. Manning</td>\n",
       "      <td>136</td>\n",
       "      <td>66</td>\n",
       "      <td>5657</td>\n",
       "    </tr>\n",
       "    <tr>\n",
       "      <td>17</td>\n",
       "      <td>17</td>\n",
       "      <td>Dan Klein</td>\n",
       "      <td>134</td>\n",
       "      <td>84</td>\n",
       "      <td>5314</td>\n",
       "    </tr>\n",
       "    <tr>\n",
       "      <td>19</td>\n",
       "      <td>19</td>\n",
       "      <td>Bernhard Schölkopf</td>\n",
       "      <td>133</td>\n",
       "      <td>38</td>\n",
       "      <td>7167</td>\n",
       "    </tr>\n",
       "  </tbody>\n",
       "</table>\n",
       "</div>"
      ],
      "text/plain": [
       "    index_in_naive                  author  papers  index_in_h5-index  \\\n",
       "8                8                Dan Roth     144                 60   \n",
       "10              10        Vijay Kumar 0001     143                 23   \n",
       "11              11         Wolfram Burgard     141                 30   \n",
       "12              12            Eric P. Xing     137                 32   \n",
       "13              13         Roland Siegwart     137                 27   \n",
       "14              14  Christopher D. Manning     136                 66   \n",
       "17              17               Dan Klein     134                 84   \n",
       "19              19      Bernhard Schölkopf     133                 38   \n",
       "\n",
       "    h5_index  \n",
       "8       5933  \n",
       "10      8334  \n",
       "11      7879  \n",
       "12      7812  \n",
       "13      8111  \n",
       "14      5657  \n",
       "17      5314  \n",
       "19      7167  "
      ]
     },
     "execution_count": 47,
     "metadata": {},
     "output_type": "execute_result"
    }
   ],
   "source": [
    "merged_rankings = pd.merge(simple_ranking.sort_values('papers', ascending=False).reset_index().reset_index(), \n",
    "                           h5index_ranking.sort_values('h5_index', ascending=False).reset_index().reset_index(), \n",
    "                           on='author', suffixes=('_in_naive', '_in_h5-index'))\n",
    "merged_rankings.head(20)[merged_rankings['index_in_h5-index']>19]"
   ]
  },
  {
   "cell_type": "markdown",
   "metadata": {},
   "source": [
    "***B2.4***   \n",
    "Compute the ranks of the authors in `data/list_of_selected_authors.txt` using both *'paper-count-based'* and *'h5-index-based'* ranking schemes."
   ]
  },
  {
   "cell_type": "code",
   "execution_count": 48,
   "metadata": {},
   "outputs": [],
   "source": [
    "list_high_discrepancy_authors = [x.strip() for x in open('data/list_of_selected_authors.txt', 'r').readlines()]"
   ]
  },
  {
   "cell_type": "code",
   "execution_count": 49,
   "metadata": {},
   "outputs": [
    {
     "data": {
      "text/html": [
       "<div>\n",
       "<style scoped>\n",
       "    .dataframe tbody tr th:only-of-type {\n",
       "        vertical-align: middle;\n",
       "    }\n",
       "\n",
       "    .dataframe tbody tr th {\n",
       "        vertical-align: top;\n",
       "    }\n",
       "\n",
       "    .dataframe thead th {\n",
       "        text-align: right;\n",
       "    }\n",
       "</style>\n",
       "<table border=\"1\" class=\"dataframe\">\n",
       "  <thead>\n",
       "    <tr style=\"text-align: right;\">\n",
       "      <th></th>\n",
       "      <th>index_in_naive</th>\n",
       "      <th>author</th>\n",
       "      <th>papers</th>\n",
       "      <th>index_in_h5-index</th>\n",
       "      <th>h5_index</th>\n",
       "    </tr>\n",
       "  </thead>\n",
       "  <tbody>\n",
       "    <tr>\n",
       "      <td>2402</td>\n",
       "      <td>2402</td>\n",
       "      <td>Hy Murveit</td>\n",
       "      <td>17</td>\n",
       "      <td>19278</td>\n",
       "      <td>170</td>\n",
       "    </tr>\n",
       "    <tr>\n",
       "      <td>3502</td>\n",
       "      <td>3502</td>\n",
       "      <td>Mengjie Zhang</td>\n",
       "      <td>13</td>\n",
       "      <td>22651</td>\n",
       "      <td>140</td>\n",
       "    </tr>\n",
       "    <tr>\n",
       "      <td>4325</td>\n",
       "      <td>4325</td>\n",
       "      <td>Naokazu Yokoya</td>\n",
       "      <td>11</td>\n",
       "      <td>21179</td>\n",
       "      <td>158</td>\n",
       "    </tr>\n",
       "    <tr>\n",
       "      <td>4996</td>\n",
       "      <td>4996</td>\n",
       "      <td>Jianwu Dang</td>\n",
       "      <td>10</td>\n",
       "      <td>24277</td>\n",
       "      <td>122</td>\n",
       "    </tr>\n",
       "    <tr>\n",
       "      <td>5154</td>\n",
       "      <td>5154</td>\n",
       "      <td>Sebastian Otte</td>\n",
       "      <td>10</td>\n",
       "      <td>22059</td>\n",
       "      <td>148</td>\n",
       "    </tr>\n",
       "    <tr>\n",
       "      <td>27734</td>\n",
       "      <td>27734</td>\n",
       "      <td>Charles Freundlich</td>\n",
       "      <td>2</td>\n",
       "      <td>19245</td>\n",
       "      <td>170</td>\n",
       "    </tr>\n",
       "    <tr>\n",
       "      <td>31907</td>\n",
       "      <td>31907</td>\n",
       "      <td>Iljung S. Kwak</td>\n",
       "      <td>2</td>\n",
       "      <td>19398</td>\n",
       "      <td>170</td>\n",
       "    </tr>\n",
       "    <tr>\n",
       "      <td>35971</td>\n",
       "      <td>35971</td>\n",
       "      <td>Yukihiro Nakamura</td>\n",
       "      <td>2</td>\n",
       "      <td>19556</td>\n",
       "      <td>170</td>\n",
       "    </tr>\n",
       "    <tr>\n",
       "      <td>40025</td>\n",
       "      <td>40025</td>\n",
       "      <td>Parag Havaldar</td>\n",
       "      <td>2</td>\n",
       "      <td>19965</td>\n",
       "      <td>170</td>\n",
       "    </tr>\n",
       "    <tr>\n",
       "      <td>42686</td>\n",
       "      <td>42686</td>\n",
       "      <td>Steffen Abraham</td>\n",
       "      <td>2</td>\n",
       "      <td>19767</td>\n",
       "      <td>170</td>\n",
       "    </tr>\n",
       "  </tbody>\n",
       "</table>\n",
       "</div>"
      ],
      "text/plain": [
       "       index_in_naive              author  papers  index_in_h5-index  h5_index\n",
       "2402             2402          Hy Murveit      17              19278       170\n",
       "3502             3502       Mengjie Zhang      13              22651       140\n",
       "4325             4325      Naokazu Yokoya      11              21179       158\n",
       "4996             4996         Jianwu Dang      10              24277       122\n",
       "5154             5154      Sebastian Otte      10              22059       148\n",
       "27734           27734  Charles Freundlich       2              19245       170\n",
       "31907           31907      Iljung S. Kwak       2              19398       170\n",
       "35971           35971   Yukihiro Nakamura       2              19556       170\n",
       "40025           40025      Parag Havaldar       2              19965       170\n",
       "42686           42686     Steffen Abraham       2              19767       170"
      ]
     },
     "execution_count": 49,
     "metadata": {},
     "output_type": "execute_result"
    }
   ],
   "source": [
    "merged_rankings.loc[merged_rankings.author.apply(lambda x: x in list_high_discrepancy_authors)]"
   ]
  },
  {
   "cell_type": "markdown",
   "metadata": {},
   "source": [
    "**Observations (Potential dangers of the naïve, paper-count-based score)**\n",
    "1. The author *'Hy Murveit'* is ranked at the *top with '17' papers*, and also at the top based on the h5-index. However, the *bottom-5 authors* based on the *number of papers*, also possess the *same h5-index score*.\n",
    "2. In fact, the author *'Mengjie Zhang'* who is *second* in terms of the *#papers* with *'13'* papers, possesses a very low (*second from the bottom as well*) *h5-index* score."
   ]
  },
  {
   "cell_type": "markdown",
   "metadata": {},
   "source": [
    "***B2.5***   \n",
    "**Potential dangers of using the H5-index-based score**"
   ]
  },
  {
   "cell_type": "code",
   "execution_count": 50,
   "metadata": {},
   "outputs": [
    {
     "data": {
      "text/html": [
       "<div>\n",
       "<style scoped>\n",
       "    .dataframe tbody tr th:only-of-type {\n",
       "        vertical-align: middle;\n",
       "    }\n",
       "\n",
       "    .dataframe tbody tr th {\n",
       "        vertical-align: top;\n",
       "    }\n",
       "\n",
       "    .dataframe thead th {\n",
       "        text-align: right;\n",
       "    }\n",
       "</style>\n",
       "<table border=\"1\" class=\"dataframe\">\n",
       "  <thead>\n",
       "    <tr style=\"text-align: right;\">\n",
       "      <th></th>\n",
       "      <th></th>\n",
       "      <th>papers</th>\n",
       "    </tr>\n",
       "    <tr>\n",
       "      <th>author</th>\n",
       "      <th>conference</th>\n",
       "      <th></th>\n",
       "    </tr>\n",
       "  </thead>\n",
       "  <tbody>\n",
       "    <tr>\n",
       "      <td>Luc Van Gool</td>\n",
       "      <td>cvpr</td>\n",
       "      <td>132</td>\n",
       "    </tr>\n",
       "    <tr>\n",
       "      <td>Thomas S. Huang</td>\n",
       "      <td>cvpr</td>\n",
       "      <td>98</td>\n",
       "    </tr>\n",
       "    <tr>\n",
       "      <td>Xiaoou Tang</td>\n",
       "      <td>cvpr</td>\n",
       "      <td>90</td>\n",
       "    </tr>\n",
       "    <tr>\n",
       "      <td>Shuicheng Yan</td>\n",
       "      <td>cvpr</td>\n",
       "      <td>79</td>\n",
       "    </tr>\n",
       "    <tr>\n",
       "      <td>Trevor Darrell</td>\n",
       "      <td>cvpr</td>\n",
       "      <td>77</td>\n",
       "    </tr>\n",
       "    <tr>\n",
       "      <td>Luc Van Gool</td>\n",
       "      <td>iccv</td>\n",
       "      <td>46</td>\n",
       "    </tr>\n",
       "    <tr>\n",
       "      <td>Xiaoou Tang</td>\n",
       "      <td>iccv</td>\n",
       "      <td>39</td>\n",
       "    </tr>\n",
       "    <tr>\n",
       "      <td>Thomas S. Huang</td>\n",
       "      <td>iccv</td>\n",
       "      <td>33</td>\n",
       "    </tr>\n",
       "    <tr>\n",
       "      <td>Shuicheng Yan</td>\n",
       "      <td>iccv</td>\n",
       "      <td>31</td>\n",
       "    </tr>\n",
       "    <tr>\n",
       "      <td rowspan=\"2\" valign=\"top\">Trevor Darrell</td>\n",
       "      <td>iccv</td>\n",
       "      <td>27</td>\n",
       "    </tr>\n",
       "    <tr>\n",
       "      <td>nips</td>\n",
       "      <td>25</td>\n",
       "    </tr>\n",
       "    <tr>\n",
       "      <td>Thomas S. Huang</td>\n",
       "      <td>fgr</td>\n",
       "      <td>24</td>\n",
       "    </tr>\n",
       "    <tr>\n",
       "      <td>Luc Van Gool</td>\n",
       "      <td>accv</td>\n",
       "      <td>16</td>\n",
       "    </tr>\n",
       "    <tr>\n",
       "      <td rowspan=\"2\" valign=\"top\">Shuicheng Yan</td>\n",
       "      <td>aaai</td>\n",
       "      <td>13</td>\n",
       "    </tr>\n",
       "    <tr>\n",
       "      <td>nips</td>\n",
       "      <td>12</td>\n",
       "    </tr>\n",
       "    <tr>\n",
       "      <td>Luc Van Gool</td>\n",
       "      <td>icra</td>\n",
       "      <td>10</td>\n",
       "    </tr>\n",
       "    <tr>\n",
       "      <td>Shuicheng Yan</td>\n",
       "      <td>ijcai</td>\n",
       "      <td>9</td>\n",
       "    </tr>\n",
       "    <tr>\n",
       "      <td rowspan=\"2\" valign=\"top\">Trevor Darrell</td>\n",
       "      <td>icra</td>\n",
       "      <td>9</td>\n",
       "    </tr>\n",
       "    <tr>\n",
       "      <td>icml</td>\n",
       "      <td>9</td>\n",
       "    </tr>\n",
       "    <tr>\n",
       "      <td>Thomas S. Huang</td>\n",
       "      <td>aaai</td>\n",
       "      <td>8</td>\n",
       "    </tr>\n",
       "  </tbody>\n",
       "</table>\n",
       "</div>"
      ],
      "text/plain": [
       "                            papers\n",
       "author          conference        \n",
       "Luc Van Gool    cvpr           132\n",
       "Thomas S. Huang cvpr            98\n",
       "Xiaoou Tang     cvpr            90\n",
       "Shuicheng Yan   cvpr            79\n",
       "Trevor Darrell  cvpr            77\n",
       "Luc Van Gool    iccv            46\n",
       "Xiaoou Tang     iccv            39\n",
       "Thomas S. Huang iccv            33\n",
       "Shuicheng Yan   iccv            31\n",
       "Trevor Darrell  iccv            27\n",
       "                nips            25\n",
       "Thomas S. Huang fgr             24\n",
       "Luc Van Gool    accv            16\n",
       "Shuicheng Yan   aaai            13\n",
       "                nips            12\n",
       "Luc Van Gool    icra            10\n",
       "Shuicheng Yan   ijcai            9\n",
       "Trevor Darrell  icra             9\n",
       "                icml             9\n",
       "Thomas S. Huang aaai             8"
      ]
     },
     "execution_count": 50,
     "metadata": {},
     "output_type": "execute_result"
    }
   ],
   "source": [
    "top5_h5index_authors = ['Luc Van Gool', 'Thomas S. Huang', 'Xiaoou Tang', 'Trevor Darrell', 'Shuicheng Yan']\n",
    "dblp_auth[dblp_auth.author.isin(top5_h5index_authors)].groupby(['author','conference']) \\\n",
    "                                                      .count() \\\n",
    "                                                      .sort_values(by='year', ascending=False) \\\n",
    "                                                      .rename(columns={'year':'papers'}) \\\n",
    "                                                      .drop('title',axis=1) \\\n",
    "                                                      .head(20)"
   ]
  },
  {
   "cell_type": "markdown",
   "metadata": {},
   "source": [
    "**Observations:**\n",
    "1. All the top-5 authors publish heavily in the **computer vision** conferences, especially *'CVPR'* and *'ICCV'*.\n",
    "2. Both these conferences have a very high h5-index value\n",
    "3. Thus, the h5-index-based ranking is **biased** towards authors publishing in this specific field."
   ]
  },
  {
   "cell_type": "markdown",
   "metadata": {},
   "source": [
    "### B3. And Justice For All\n",
    "\n",
    "An ideal ranking scheme should not give undue advantage to authors who have been conducting research for a longer period of time and therefore have naturally published more papers when compared to a junior researcher. Does the ranking scheme designed by you in ``Step 2`` take this factor into account? If not, introduce variations in your ranking scheme to mitigate this effect. Do you observe anything odd with this new ranking? Clearly explain your observations.\n",
    "\n",
    "_Hint: What you did in part A4 may be useful here._"
   ]
  },
  {
   "cell_type": "markdown",
   "metadata": {},
   "source": [
    "**Introduce normalized h5-index scores for ranking authors**"
   ]
  },
  {
   "cell_type": "markdown",
   "metadata": {},
   "source": [
    "**Method-1**   \n",
    "Normalize by the total number of papers per author."
   ]
  },
  {
   "cell_type": "code",
   "execution_count": 51,
   "metadata": {},
   "outputs": [
    {
     "data": {
      "text/html": [
       "<div>\n",
       "<style scoped>\n",
       "    .dataframe tbody tr th:only-of-type {\n",
       "        vertical-align: middle;\n",
       "    }\n",
       "\n",
       "    .dataframe tbody tr th {\n",
       "        vertical-align: top;\n",
       "    }\n",
       "\n",
       "    .dataframe thead th {\n",
       "        text-align: right;\n",
       "    }\n",
       "</style>\n",
       "<table border=\"1\" class=\"dataframe\">\n",
       "  <thead>\n",
       "    <tr style=\"text-align: right;\">\n",
       "      <th></th>\n",
       "      <th>h5_index</th>\n",
       "      <th>papers_normalized_h5_index</th>\n",
       "    </tr>\n",
       "    <tr>\n",
       "      <th>author</th>\n",
       "      <th></th>\n",
       "      <th></th>\n",
       "    </tr>\n",
       "  </thead>\n",
       "  <tbody>\n",
       "    <tr>\n",
       "      <td>Luc Van Gool</td>\n",
       "      <td>18695</td>\n",
       "      <td>84.977273</td>\n",
       "    </tr>\n",
       "    <tr>\n",
       "      <td>Thomas S. Huang</td>\n",
       "      <td>14052</td>\n",
       "      <td>75.548387</td>\n",
       "    </tr>\n",
       "    <tr>\n",
       "      <td>Xiaoou Tang</td>\n",
       "      <td>13190</td>\n",
       "      <td>87.933333</td>\n",
       "    </tr>\n",
       "    <tr>\n",
       "      <td>Trevor Darrell</td>\n",
       "      <td>12763</td>\n",
       "      <td>80.778481</td>\n",
       "    </tr>\n",
       "    <tr>\n",
       "      <td>Shuicheng Yan</td>\n",
       "      <td>12448</td>\n",
       "      <td>80.831169</td>\n",
       "    </tr>\n",
       "  </tbody>\n",
       "</table>\n",
       "</div>"
      ],
      "text/plain": [
       "                 h5_index  papers_normalized_h5_index\n",
       "author                                               \n",
       "Luc Van Gool        18695                   84.977273\n",
       "Thomas S. Huang     14052                   75.548387\n",
       "Xiaoou Tang         13190                   87.933333\n",
       "Trevor Darrell      12763                   80.778481\n",
       "Shuicheng Yan       12448                   80.831169"
      ]
     },
     "execution_count": 51,
     "metadata": {},
     "output_type": "execute_result"
    }
   ],
   "source": [
    "auth_paper_ranks = pd.merge(simple_ranking, h5index_ranking, left_on='author', right_on='author', how='inner')\n",
    "papers_normalized_h5index_ranking = auth_paper_ranks['h5_index'] / auth_paper_ranks['papers']\n",
    "h5index_ranking['papers_normalized_h5_index'] = pd.Series(papers_normalized_h5index_ranking, index=h5index_ranking.index)\n",
    "h5index_ranking.head()"
   ]
  },
  {
   "cell_type": "code",
   "execution_count": 52,
   "metadata": {},
   "outputs": [
    {
     "data": {
      "text/plain": [
       "<matplotlib.axes._subplots.AxesSubplot at 0x1a2b9039b0>"
      ]
     },
     "execution_count": 52,
     "metadata": {},
     "output_type": "execute_result"
    },
    {
     "data": {
      "image/png": "[encoded data removed]",
      "text/plain": [
       "<Figure size 432x288 with 1 Axes>"
      ]
     },
     "metadata": {
      "needs_background": "light"
     },
     "output_type": "display_data"
    }
   ],
   "source": [
    "h5index_ranking.sort_values(by='papers_normalized_h5_index', ascending=False)['papers_normalized_h5_index'] \\\n",
    "               .head(20) \\\n",
    "               .plot(kind='barh', color='blue')"
   ]
  },
  {
   "cell_type": "code",
   "execution_count": 53,
   "metadata": {},
   "outputs": [
    {
     "data": {
      "text/plain": [
       "1"
      ]
     },
     "execution_count": 53,
     "metadata": {},
     "output_type": "execute_result"
    }
   ],
   "source": [
    "simple_ranking['papers']['Masahiro Yasuno']"
   ]
  },
  {
   "cell_type": "markdown",
   "metadata": {},
   "source": [
    "**Observations:**\n",
    "1. Interestingly, after normalizing by the number of papers per author, the authors who have only published a **single paper in CVPR** become the top ranked authors.\n",
    "2. Naturally, this normalization scheme could give **advantage** to authors who only publish a **single paper**.\n",
    "3. Furthermore, this effect is exacerbated owing to the biased and unusually high h5-index (*'112'*) of the *'CVPR'* conference. Note that the second and third ranked conferences have a h5-index of *'58'*, which is almost **half** of the h5-index of *'CVPR'*."
   ]
  },
  {
   "cell_type": "markdown",
   "metadata": {},
   "source": [
    "**Method-2**   \n",
    "Normalize by the author activity period"
   ]
  },
  {
   "cell_type": "code",
   "execution_count": 54,
   "metadata": {},
   "outputs": [
    {
     "data": {
      "text/html": [
       "<div>\n",
       "<style scoped>\n",
       "    .dataframe tbody tr th:only-of-type {\n",
       "        vertical-align: middle;\n",
       "    }\n",
       "\n",
       "    .dataframe tbody tr th {\n",
       "        vertical-align: top;\n",
       "    }\n",
       "\n",
       "    .dataframe thead th {\n",
       "        text-align: right;\n",
       "    }\n",
       "</style>\n",
       "<table border=\"1\" class=\"dataframe\">\n",
       "  <thead>\n",
       "    <tr style=\"text-align: right;\">\n",
       "      <th></th>\n",
       "      <th>h5_index</th>\n",
       "      <th>papers_normalized_h5_index</th>\n",
       "      <th>activity_normalized_h5_index</th>\n",
       "    </tr>\n",
       "    <tr>\n",
       "      <th>author</th>\n",
       "      <th></th>\n",
       "      <th></th>\n",
       "      <th></th>\n",
       "    </tr>\n",
       "  </thead>\n",
       "  <tbody>\n",
       "    <tr>\n",
       "      <td>Luc Van Gool</td>\n",
       "      <td>18695</td>\n",
       "      <td>84.977273</td>\n",
       "      <td>644.655172</td>\n",
       "    </tr>\n",
       "    <tr>\n",
       "      <td>Thomas S. Huang</td>\n",
       "      <td>14052</td>\n",
       "      <td>75.548387</td>\n",
       "      <td>379.783784</td>\n",
       "    </tr>\n",
       "    <tr>\n",
       "      <td>Xiaoou Tang</td>\n",
       "      <td>13190</td>\n",
       "      <td>87.933333</td>\n",
       "      <td>824.375000</td>\n",
       "    </tr>\n",
       "    <tr>\n",
       "      <td>Trevor Darrell</td>\n",
       "      <td>12763</td>\n",
       "      <td>80.778481</td>\n",
       "      <td>411.709677</td>\n",
       "    </tr>\n",
       "    <tr>\n",
       "      <td>Shuicheng Yan</td>\n",
       "      <td>12448</td>\n",
       "      <td>80.831169</td>\n",
       "      <td>732.235294</td>\n",
       "    </tr>\n",
       "  </tbody>\n",
       "</table>\n",
       "</div>"
      ],
      "text/plain": [
       "                 h5_index  papers_normalized_h5_index  \\\n",
       "author                                                  \n",
       "Luc Van Gool        18695                   84.977273   \n",
       "Thomas S. Huang     14052                   75.548387   \n",
       "Xiaoou Tang         13190                   87.933333   \n",
       "Trevor Darrell      12763                   80.778481   \n",
       "Shuicheng Yan       12448                   80.831169   \n",
       "\n",
       "                 activity_normalized_h5_index  \n",
       "author                                         \n",
       "Luc Van Gool                       644.655172  \n",
       "Thomas S. Huang                    379.783784  \n",
       "Xiaoou Tang                        824.375000  \n",
       "Trevor Darrell                     411.709677  \n",
       "Shuicheng Yan                      732.235294  "
      ]
     },
     "execution_count": 54,
     "metadata": {},
     "output_type": "execute_result"
    }
   ],
   "source": [
    "activity = dblp_auth.groupby('author')['year'].apply(compute_activity)\n",
    "normalized_h5index_ranking = auth_paper_ranks['h5_index'] / activity\n",
    "h5index_ranking['activity_normalized_h5_index'] = pd.Series(normalized_h5index_ranking, index=h5index_ranking.index)\n",
    "h5index_ranking.head()"
   ]
  },
  {
   "cell_type": "code",
   "execution_count": 55,
   "metadata": {},
   "outputs": [
    {
     "data": {
      "text/plain": [
       "<matplotlib.axes._subplots.AxesSubplot at 0x1a263407b8>"
      ]
     },
     "execution_count": 55,
     "metadata": {},
     "output_type": "execute_result"
    },
    {
     "data": {
      "image/png": "[encoded data removed]",
      "text/plain": [
       "<Figure size 432x288 with 1 Axes>"
      ]
     },
     "metadata": {
      "needs_background": "light"
     },
     "output_type": "display_data"
    }
   ],
   "source": [
    "sorted_activity_normalized_ranking = h5index_ranking.sort_values(by='activity_normalized_h5_index', ascending=False)\n",
    "sorted_activity_normalized_ranking['activity_normalized_h5_index'].head(20) \\\n",
    "               .plot(kind='barh', color='blue')"
   ]
  },
  {
   "cell_type": "code",
   "execution_count": 56,
   "metadata": {},
   "outputs": [
    {
     "name": "stdout",
     "output_type": "stream",
     "text": [
      "Lei Fei-Fei 0001's Information:\n",
      "Activity:  3\n",
      "H5-index Rank:  388\n",
      "H5-index Score:  2860\n",
      "Activity normalized: Mean = 12.7 Median = 12.0\n",
      "H5-Index: Mean = 29.85 Median = 31.0\n"
     ]
    }
   ],
   "source": [
    "print(\"Lei Fei-Fei 0001's Information:\")\n",
    "print(\"Activity: \", activity['Li Fei-Fei 0001'])\n",
    "print(\"H5-index Rank: \", h5index_ranking.index.get_loc('Li Fei-Fei 0001')+1)\n",
    "print(\"H5-index Score: \", h5index_ranking['h5_index']['Li Fei-Fei 0001'])\n",
    "sorted_activity_normalized_ranking.index[:20]\n",
    "print(\"Activity normalized: Mean = \"+str(activity[sorted_activity_normalized_ranking.index[:20]].mean())+\" Median = \"+str(activity[sorted_activity_normalized_ranking.index[:20]].median()))\n",
    "print(\"H5-Index: Mean = \"+str(activity[h5index_ranking['h5_index'].index[:20]].mean())+\" Median = \"+str(activity[h5index_ranking['h5_index'].index[:20]].median()))"
   ]
  },
  {
   "cell_type": "markdown",
   "metadata": {},
   "source": [
    "**Observations:**\n",
    "1. Interestingly, after normalizing by author activity, an author *Lei Fei-Fei 0001*, who has only been active since the **past 3 years**, is ranked at **388th** with a H5-index score of **2860** becomes the top ranked author.\n",
    "2. Naturally, this normalization penalizes authors who have been around for a longer period of time, while favours those with shorted activity periods. The mean and median activity periods of the top-20 authors in the normalized scheme are: **12.7** and **12** years respectively, while in the original H5-index sum scheme were **29.85** and **31** years respectively.\n",
    "3. An important *disadvantage* of this scheme is that it **ignores inactivity**, rendering authors who were inactive over a long period of time to be adversely affected."
   ]
  },
  {
   "cell_type": "markdown",
   "metadata": {},
   "source": [
    "## Task C. Trending topics\n",
    "\n",
    "Historically, the field of AI has witnessed research in two broad flavors: “symbolic” (logic, planning, control, etc.) vs. “connectionist” (neural networks, deep learning, Bayesian methods, etc.). Let’s see if we can see how the popularity of these two approaches to AI is reflected in the DBLP data.\n",
    "\n",
    "To this end, construct two dataframes: ``symbolic`` and ``connectionist``. ``symbolic`` is your paper-centric dataframe from part A1 filtered down to those papers whose titles contain at least one of the following words (not differentiating between upper and lower case letters): “logic”, “planning”, “control”; ``connectionist`` is a dataframe constructed in a similar manner, but with the words “deep”, “learning”, “feature”, “bayesian”. Plot the number of papers per year for ``symbolic`` and ``connectionist`` separately (i.e., 2 plots).\n",
    "1. Describe the trends you observe. Based on these plots alone, what might one conclude about the popularity of the two approaches to AI?\n",
    "2. Moving beyond these plots, what do you, as a careful data scientist, conclude about the popularity of symbolic vs. connectionist AI? Corroborate your reasoning with further plots.\n",
    "\n",
    "_Note: You could use the text handling utilities below to clean the text in the paper titles._"
   ]
  },
  {
   "cell_type": "code",
   "execution_count": 57,
   "metadata": {},
   "outputs": [],
   "source": [
    "# Text handling utilities\n",
    "from string import punctuation\n",
    "stopwords_list = open('data/stopwords.txt', 'r').readlines()\n",
    "stopwords_list = [x.strip() for x in stopwords_list]\n",
    "def stopword_remover(text):\n",
    "    text_list = text.split()\n",
    "    text_list = [x for x in text_list if x not in stopwords_list]\n",
    "    return ' '.join(text_list)\n",
    "def lowercase_all(text):\n",
    "    return text.lower()\n",
    "def remove_punct(text):\n",
    "    return ''.join([ch for ch in text if ch not in punctuation])"
   ]
  },
  {
   "cell_type": "code",
   "execution_count": 58,
   "metadata": {},
   "outputs": [],
   "source": [
    "dblp_no_sw_punkt = dblp.copy()\n",
    "dblp_no_sw_punkt['title'] = dblp_no_sw_punkt['title'].apply(lambda x: stopword_remover(remove_punct(lowercase_all(x))))"
   ]
  },
  {
   "cell_type": "code",
   "execution_count": 59,
   "metadata": {},
   "outputs": [
    {
     "data": {
      "text/html": [
       "<div>\n",
       "<style scoped>\n",
       "    .dataframe tbody tr th:only-of-type {\n",
       "        vertical-align: middle;\n",
       "    }\n",
       "\n",
       "    .dataframe tbody tr th {\n",
       "        vertical-align: top;\n",
       "    }\n",
       "\n",
       "    .dataframe thead th {\n",
       "        text-align: right;\n",
       "    }\n",
       "</style>\n",
       "<table border=\"1\" class=\"dataframe\">\n",
       "  <thead>\n",
       "    <tr style=\"text-align: right;\">\n",
       "      <th></th>\n",
       "      <th>authors</th>\n",
       "      <th>year</th>\n",
       "      <th>title</th>\n",
       "      <th>conference</th>\n",
       "    </tr>\n",
       "  </thead>\n",
       "  <tbody>\n",
       "    <tr>\n",
       "      <td>70</td>\n",
       "      <td>[Keisuke Kinoshita, Michael Lindenbaum]</td>\n",
       "      <td>1998.0</td>\n",
       "      <td>robotic control partial visual information</td>\n",
       "      <td>iccv</td>\n",
       "    </tr>\n",
       "    <tr>\n",
       "      <td>332</td>\n",
       "      <td>[Baba C. Vemuri, Yanlin Guo]</td>\n",
       "      <td>1998.0</td>\n",
       "      <td>snake pedals geometric models physicsbased con...</td>\n",
       "      <td>iccv</td>\n",
       "    </tr>\n",
       "    <tr>\n",
       "      <td>375</td>\n",
       "      <td>[Hiroki Watanabe, Hitoshi Hongo, Mamoru Yasumo...</td>\n",
       "      <td>2001.0</td>\n",
       "      <td>control home appliances using face hand sign r...</td>\n",
       "      <td>iccv</td>\n",
       "    </tr>\n",
       "    <tr>\n",
       "      <td>399</td>\n",
       "      <td>[Nicolas Papadakis, Étienne Mémin]</td>\n",
       "      <td>2007.0</td>\n",
       "      <td>variational optimal control technique tracking...</td>\n",
       "      <td>iccv</td>\n",
       "    </tr>\n",
       "    <tr>\n",
       "      <td>800</td>\n",
       "      <td>[Shree K. Nayar, Vlad Branzoi]</td>\n",
       "      <td>2003.0</td>\n",
       "      <td>adaptive dynamic range imaging optical control...</td>\n",
       "      <td>iccv</td>\n",
       "    </tr>\n",
       "  </tbody>\n",
       "</table>\n",
       "</div>"
      ],
      "text/plain": [
       "                                               authors    year  \\\n",
       "70             [Keisuke Kinoshita, Michael Lindenbaum]  1998.0   \n",
       "332                       [Baba C. Vemuri, Yanlin Guo]  1998.0   \n",
       "375  [Hiroki Watanabe, Hitoshi Hongo, Mamoru Yasumo...  2001.0   \n",
       "399                 [Nicolas Papadakis, Étienne Mémin]  2007.0   \n",
       "800                     [Shree K. Nayar, Vlad Branzoi]  2003.0   \n",
       "\n",
       "                                                 title conference  \n",
       "70          robotic control partial visual information       iccv  \n",
       "332  snake pedals geometric models physicsbased con...       iccv  \n",
       "375  control home appliances using face hand sign r...       iccv  \n",
       "399  variational optimal control technique tracking...       iccv  \n",
       "800  adaptive dynamic range imaging optical control...       iccv  "
      ]
     },
     "execution_count": 59,
     "metadata": {},
     "output_type": "execute_result"
    }
   ],
   "source": [
    "words_symbolic = ['logic', 'planning', 'control']\n",
    "papers_with_symbolic_words = dblp_no_sw_punkt.loc[dblp_no_sw_punkt['title'].apply(lambda x: \n",
    "                                       len(set(words_symbolic).intersection(x.split())) > 0)]\n",
    "papers_with_symbolic_words.head()"
   ]
  },
  {
   "cell_type": "code",
   "execution_count": 60,
   "metadata": {
    "scrolled": false
   },
   "outputs": [],
   "source": [
    "paper_count_word = papers_with_symbolic_words.groupby('year').count().drop(['authors','conference'],axis=1)\n",
    "paper_count_overall = dblp_no_sw_punkt.groupby('year').count().drop(['authors','conference'],axis=1).rename(columns={'title':'OverallVolume'})\n",
    "paper_count_word = pd.merge(paper_count_word, paper_count_overall, left_on='year', right_on='year', how='left')\n",
    "paper_count_word.OverallVolume = paper_count_word['title'] / paper_count_word['OverallVolume']\n",
    "paper_count_word_symbolic = paper_count_word.rename(columns={'title':'Counts', 'OverallVolume':'NormalizedCounts'})"
   ]
  },
  {
   "cell_type": "code",
   "execution_count": 61,
   "metadata": {},
   "outputs": [
    {
     "data": {
      "text/html": [
       "<div>\n",
       "<style scoped>\n",
       "    .dataframe tbody tr th:only-of-type {\n",
       "        vertical-align: middle;\n",
       "    }\n",
       "\n",
       "    .dataframe tbody tr th {\n",
       "        vertical-align: top;\n",
       "    }\n",
       "\n",
       "    .dataframe thead th {\n",
       "        text-align: right;\n",
       "    }\n",
       "</style>\n",
       "<table border=\"1\" class=\"dataframe\">\n",
       "  <thead>\n",
       "    <tr style=\"text-align: right;\">\n",
       "      <th></th>\n",
       "      <th>authors</th>\n",
       "      <th>year</th>\n",
       "      <th>title</th>\n",
       "      <th>conference</th>\n",
       "    </tr>\n",
       "  </thead>\n",
       "  <tbody>\n",
       "    <tr>\n",
       "      <td>0</td>\n",
       "      <td>[Yoshinori Kuno, Yasukazu Okamoto, Satoshi Okada]</td>\n",
       "      <td>1990.0</td>\n",
       "      <td>object recognition using feature search strate...</td>\n",
       "      <td>iccv</td>\n",
       "    </tr>\n",
       "    <tr>\n",
       "      <td>13</td>\n",
       "      <td>[Chengjun Liu, Harry Wechsler]</td>\n",
       "      <td>2001.0</td>\n",
       "      <td>gabor feature classifier face recognition</td>\n",
       "      <td>iccv</td>\n",
       "    </tr>\n",
       "    <tr>\n",
       "      <td>27</td>\n",
       "      <td>[Yongbo Li, Weisheng Dong, Guangming Shi, Xuem...</td>\n",
       "      <td>2015.0</td>\n",
       "      <td>learning parametric distributions image superr...</td>\n",
       "      <td>iccv</td>\n",
       "    </tr>\n",
       "    <tr>\n",
       "      <td>30</td>\n",
       "      <td>[Jizhou Gao, Yin Hu, Jinze Liu, Ruigang Yang]</td>\n",
       "      <td>2009.0</td>\n",
       "      <td>unsupervised learning highorder structural sem...</td>\n",
       "      <td>iccv</td>\n",
       "    </tr>\n",
       "    <tr>\n",
       "      <td>31</td>\n",
       "      <td>[José Bins, Bruce A. Draper]</td>\n",
       "      <td>2001.0</td>\n",
       "      <td>feature selection huge feature sets</td>\n",
       "      <td>iccv</td>\n",
       "    </tr>\n",
       "  </tbody>\n",
       "</table>\n",
       "</div>"
      ],
      "text/plain": [
       "                                              authors    year  \\\n",
       "0   [Yoshinori Kuno, Yasukazu Okamoto, Satoshi Okada]  1990.0   \n",
       "13                     [Chengjun Liu, Harry Wechsler]  2001.0   \n",
       "27  [Yongbo Li, Weisheng Dong, Guangming Shi, Xuem...  2015.0   \n",
       "30      [Jizhou Gao, Yin Hu, Jinze Liu, Ruigang Yang]  2009.0   \n",
       "31                       [José Bins, Bruce A. Draper]  2001.0   \n",
       "\n",
       "                                                title conference  \n",
       "0   object recognition using feature search strate...       iccv  \n",
       "13          gabor feature classifier face recognition       iccv  \n",
       "27  learning parametric distributions image superr...       iccv  \n",
       "30  unsupervised learning highorder structural sem...       iccv  \n",
       "31                feature selection huge feature sets       iccv  "
      ]
     },
     "execution_count": 61,
     "metadata": {},
     "output_type": "execute_result"
    }
   ],
   "source": [
    "words_connectionist = ['deep', 'learning', 'feature', 'bayesian']\n",
    "papers_with_connectionist_words = dblp_no_sw_punkt.loc[dblp_no_sw_punkt['title'].apply(lambda x: \n",
    "                                       len(set(words_connectionist).intersection(x.split())) > 0)]\n",
    "papers_with_connectionist_words.head()"
   ]
  },
  {
   "cell_type": "code",
   "execution_count": 62,
   "metadata": {},
   "outputs": [],
   "source": [
    "paper_count_word = papers_with_connectionist_words.groupby('year').count().drop(['authors','conference'],axis=1)\n",
    "paper_count_overall = dblp_no_sw_punkt.groupby('year').count().drop(['authors','conference'],axis=1).rename(columns={'title':'OverallVolume'})\n",
    "paper_count_word = pd.merge(paper_count_word, paper_count_overall, left_on='year', right_on='year', how='left')\n",
    "paper_count_word.OverallVolume = paper_count_word['title'] / paper_count_word['OverallVolume']\n",
    "paper_count_word_connectionist = paper_count_word.rename(columns={'title':'Counts', 'OverallVolume':'NormalizedCounts'})"
   ]
  },
  {
   "cell_type": "markdown",
   "metadata": {},
   "source": [
    "***C1***   \n",
    "Plotting the number of papers per year for `symbolic` and `connectionist`"
   ]
  },
  {
   "cell_type": "code",
   "execution_count": 63,
   "metadata": {
    "scrolled": true
   },
   "outputs": [
    {
     "data": {
      "image/png": "[encoded data removed]",
      "text/plain": [
       "<Figure size 720x288 with 2 Axes>"
      ]
     },
     "metadata": {
      "needs_background": "light"
     },
     "output_type": "display_data"
    }
   ],
   "source": [
    "fig, (ax1, ax2) = plt.subplots(1,2,figsize=(10,4))\n",
    "paper_count_word_symbolic['Counts'].plot(ax=ax1,legend=True)\n",
    "paper_count_word_connectionist['Counts'].plot(ax=ax2,legend=True)\n",
    "ax1.set_title('Topic: Symbolic')\n",
    "ax1.set_xlabel('Year')\n",
    "ax1.set_ylabel('#Papers')\n",
    "ax2.set_title('Topic: Connectionist')\n",
    "ax2.set_xlabel('Year')\n",
    "ax2.set_ylabel('#Papers')\n",
    "plt.show()"
   ]
  },
  {
   "cell_type": "markdown",
   "metadata": {},
   "source": [
    "**Observations:**\n",
    "1. We can clearly see that both topics have increasing number of papers. However Connectionist seems to be much more popular, with extreme growth since 2010.\n",
    "2. This shows that both fields of AI are flourishing, with `connectionist` flourishing at an increased rate when compared to `symbolic`"
   ]
  },
  {
   "cell_type": "markdown",
   "metadata": {},
   "source": [
    "***C2***   \n",
    "1. Can we trust the trends as it is?\n",
    "2. Let's plot the **normalized paper counts**"
   ]
  },
  {
   "cell_type": "code",
   "execution_count": 64,
   "metadata": {},
   "outputs": [
    {
     "data": {
      "image/png": "[encoded data removed]",
      "text/plain": [
       "<Figure size 720x288 with 2 Axes>"
      ]
     },
     "metadata": {
      "needs_background": "light"
     },
     "output_type": "display_data"
    }
   ],
   "source": [
    "fig, (ax1, ax2) = plt.subplots(1,2,figsize=(10,4))\n",
    "paper_count_word_symbolic['NormalizedCounts'].plot(ax=ax1,legend=True)\n",
    "paper_count_word_connectionist['NormalizedCounts'].plot(ax=ax2,legend=True)\n",
    "ax1.set_title('Topic: Symbolic')\n",
    "ax1.set_xlabel('Year')\n",
    "ax1.set_ylabel('#Papers')\n",
    "ax2.set_title('Topic: Connectionist')\n",
    "ax2.set_xlabel('Year')\n",
    "ax2.set_ylabel('#Papers')\n",
    "plt.show()"
   ]
  },
  {
   "cell_type": "markdown",
   "metadata": {},
   "source": [
    "**Observations:**\n",
    "1. Interestingly, this plot shows that the **trend** has reversed for `symbolic` papers, i.e., the field is declining.\n",
    "2. Basically, the number of papers published per year is also increasing every year, thus, to clearly assess the popularity of a field, one needs to understand the relative importance of the field wrt to all the other existing fields.\n",
    "3. This is also similar to a very famous phenomenon called the *['Simpson's Paradox'](https://en.wikipedia.org/wiki/Simpson%27s_paradox)* in the field of Probability and Statistics."
   ]
  },
  {
   "cell_type": "markdown",
   "metadata": {},
   "source": [
    "**Alternatively**, it is also a good idea to analyze the **market share** of each topic, assuming that combined together these two topics constitute the whole field of AI"
   ]
  },
  {
   "cell_type": "code",
   "execution_count": 65,
   "metadata": {},
   "outputs": [
    {
     "data": {
      "image/png": "[encoded data removed]",
      "text/plain": [
       "<Figure size 720x432 with 1 Axes>"
      ]
     },
     "metadata": {
      "needs_background": "light"
     },
     "output_type": "display_data"
    }
   ],
   "source": [
    "connectionist_timeline = paper_count_word_connectionist['Counts']\n",
    "symbolic_timeline = paper_count_word_symbolic['Counts']\n",
    "\n",
    "# calculate the \"market share\" of each topic, assuming they combined form the whole AI market\n",
    "total_AI_timeline = connectionist_timeline + symbolic_timeline\n",
    "con_share = (connectionist_timeline/total_AI_timeline).values\n",
    "sym_share = (symbolic_timeline/total_AI_timeline).values\n",
    "\n",
    "plt.figure(figsize=(10,6))\n",
    "plt.stackplot(total_AI_timeline.index.values, con_share, sym_share, labels=('Connectionist Share', 'Symbolist Share'))\n",
    "plt.legend()\n",
    "plt.show()"
   ]
  },
  {
   "cell_type": "markdown",
   "metadata": {},
   "source": [
    "**Observations:**   \n",
    "Interestingly, this plot shows that over the years the **market share** for `symbolic` papers has shrinked signficantly when compared to `connectionist` papers."
   ]
  }
 ],
 "metadata": {
  "colab": {
   "collapsed_sections": [],
   "name": "Homework 1.ipynb",
   "provenance": []
  },
  "kernelspec": {
   "display_name": "Python 3",
   "language": "python",
   "name": "python3"
  },
  "language_info": {
   "codemirror_mode": {
    "name": "ipython",
    "version": 3
   },
   "file_extension": ".py",
   "mimetype": "text/x-python",
   "name": "python",
   "nbconvert_exporter": "python",
   "pygments_lexer": "ipython3",
   "version": "3.7.3"
  },
  "toc": {
   "base_numbering": 1,
   "nav_menu": {},
   "number_sections": false,
   "sideBar": true,
   "skip_h1_title": true,
   "title_cell": "Table of Contents",
   "title_sidebar": "Contents",
   "toc_cell": false,
   "toc_position": {},
   "toc_section_display": true,
   "toc_window_display": false
  }
 },
 "nbformat": 4,
 "nbformat_minor": 1
}
