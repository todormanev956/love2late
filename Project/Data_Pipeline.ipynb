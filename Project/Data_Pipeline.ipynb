{
 "cells": [
  {
   "cell_type": "markdown",
   "metadata": {},
   "source": [
    "# LOVE2LATE"
   ]
  },
  {
   "cell_type": "markdown",
   "metadata": {},
   "source": [
    "## LIBRAIRIE"
   ]
  },
  {
   "cell_type": "code",
   "execution_count": 1,
   "metadata": {},
   "outputs": [],
   "source": [
    "%matplotlib inline\n",
    "from Homemade import pipeline as pl \n",
    "from Homemade import utils as ut\n",
    "import pandas as pd\n",
    "pd.set_option('display.max_colwidth', -1)"
   ]
  },
  {
   "cell_type": "markdown",
   "metadata": {},
   "source": [
    "## Création du dataframe pour le mensuel L'INTERMEDIAIRE"
   ]
  },
  {
   "cell_type": "markdown",
   "metadata": {},
   "source": [
    "Extraction des données de transkribus, on récupère le texte associé à chaques paragraphes de Transckribus pour ensuite le stocké, avec des métadonnées complémentaires, dans un dataframe Pandas."
   ]
  },
  {
   "cell_type": "code",
   "execution_count": 2,
   "metadata": {},
   "outputs": [],
   "source": [
    "Dataframe=pl.OCR_to_DataFrame('LI')"
   ]
  },
  {
   "cell_type": "markdown",
   "metadata": {},
   "source": [
    "Cleaning du dataframe, ne sera gardé que les annonces qui respectent certains standard parmis tous les paragraphes Transkribus."
   ]
  },
  {
   "cell_type": "code",
   "execution_count": 3,
   "metadata": {},
   "outputs": [
    {
     "name": "stdout",
     "output_type": "stream",
     "text": [
      "A première vu, il y aurait 4372 annonces\n",
      "565 annonces ont pu être sauvé alors que transckribus les avaient scindés en deux paragraphes\n",
      "482 annonces ont été perdu car elles ne presentaient pas la structure type\n"
     ]
    },
    {
     "name": "stderr",
     "output_type": "stream",
     "text": [
      "C:\\Users\\Heavy Chicken\\Miniconda3\\lib\\site-packages\\pandas\\core\\indexing.py:376: SettingWithCopyWarning: \n",
      "A value is trying to be set on a copy of a slice from a DataFrame.\n",
      "Try using .loc[row_indexer,col_indexer] = value instead\n",
      "\n",
      "See the caveats in the documentation: http://pandas.pydata.org/pandas-docs/stable/user_guide/indexing.html#returning-a-view-versus-a-copy\n",
      "  self.obj[key] = _infer_fill_value(value)\n",
      "C:\\Users\\Heavy Chicken\\Miniconda3\\lib\\site-packages\\pandas\\core\\indexing.py:494: SettingWithCopyWarning: \n",
      "A value is trying to be set on a copy of a slice from a DataFrame.\n",
      "Try using .loc[row_indexer,col_indexer] = value instead\n",
      "\n",
      "See the caveats in the documentation: http://pandas.pydata.org/pandas-docs/stable/user_guide/indexing.html#returning-a-view-versus-a-copy\n",
      "  self.obj[item] = s\n"
     ]
    },
    {
     "name": "stdout",
     "output_type": "stream",
     "text": [
      "505 annonces ont été perdu faute de mot de séparation\n",
      "29 annonces ont été perdu car le sexe n'a pas pu être extrait\n",
      "128 annonces ont été perdu car l'age n'a pas pu être extrait\n",
      "2405 annonces ont été perdu car elles étaient des doublons\n",
      "Il nous reste 1255 annonces\n"
     ]
    }
   ],
   "source": [
    "Dataframe = pl.update_frame(Dataframe)"
   ]
  },
  {
   "cell_type": "code",
   "execution_count": 4,
   "metadata": {},
   "outputs": [],
   "source": [
    "ut.store_to_folder(Dataframe, file_name = 'LI')"
   ]
  },
  {
   "cell_type": "markdown",
   "metadata": {},
   "source": [
    "On refait ensuite la même chose pour 3 autres journaux"
   ]
  },
  {
   "cell_type": "markdown",
   "metadata": {},
   "source": [
    "## Création du dataframe pour le mensuel REVUE MENSUELLE"
   ]
  },
  {
   "cell_type": "code",
   "execution_count": 5,
   "metadata": {},
   "outputs": [],
   "source": [
    "Dataframe=pl.OCR_to_DataFrame('RV')"
   ]
  },
  {
   "cell_type": "code",
   "execution_count": 6,
   "metadata": {},
   "outputs": [
    {
     "name": "stdout",
     "output_type": "stream",
     "text": [
      "A première vu, il y aurait 6159 annonces\n",
      "141 annonces ont pu être sauvé alors que transckribus les avaient scindés en deux paragraphes\n",
      "122 annonces ont été perdu car elles ne presentaient pas la structure type\n",
      "540 annonces ont été perdu faute de mot de séparation\n",
      "179 annonces ont été perdu car le sexe n'a pas pu être extrait\n",
      "1035 annonces ont été perdu car l'age n'a pas pu être extrait\n",
      "3548 annonces ont été perdu car elles étaient des doublons\n",
      "Il nous reste 741 annonces\n"
     ]
    }
   ],
   "source": [
    "Dataframe = pl.update_frame(Dataframe)"
   ]
  },
  {
   "cell_type": "code",
   "execution_count": 7,
   "metadata": {},
   "outputs": [],
   "source": [
    "ut.store_to_folder(Dataframe, file_name = 'RV')"
   ]
  },
  {
   "cell_type": "markdown",
   "metadata": {},
   "source": [
    "## Création du dataframe pour le mensuel LE LIEN DU MARIAGE"
   ]
  },
  {
   "cell_type": "code",
   "execution_count": 8,
   "metadata": {},
   "outputs": [],
   "source": [
    "Dataframe=pl.OCR_to_DataFrame('LLDM')"
   ]
  },
  {
   "cell_type": "code",
   "execution_count": 9,
   "metadata": {},
   "outputs": [
    {
     "name": "stdout",
     "output_type": "stream",
     "text": [
      "A première vu, il y aurait 2538 annonces\n",
      "342 annonces ont pu être sauvé alors que transckribus les avaient scindés en deux paragraphes\n",
      "135 annonces ont été perdu car elles ne presentaient pas la structure type\n",
      "82 annonces ont été perdu faute de mot de séparation\n",
      "1 annonces ont été perdu car le sexe n'a pas pu être extrait\n",
      "74 annonces ont été perdu car l'age n'a pas pu être extrait\n",
      "1953 annonces ont été perdu car elles étaient des doublons\n",
      "Il nous reste 295 annonces\n"
     ]
    }
   ],
   "source": [
    "Dataframe = pl.update_frame(Dataframe)"
   ]
  },
  {
   "cell_type": "code",
   "execution_count": 10,
   "metadata": {},
   "outputs": [],
   "source": [
    "ut.store_to_folder(Dataframe, file_name = 'LLDM')"
   ]
  },
  {
   "cell_type": "markdown",
   "metadata": {},
   "source": [
    "## Création du dataframe pour le mensuel LE TRAIT D'UNION DES INTERETS RECIPROQUES"
   ]
  },
  {
   "cell_type": "code",
   "execution_count": 11,
   "metadata": {},
   "outputs": [],
   "source": [
    "Dataframe=pl.OCR_to_DataFrame('LTDU')"
   ]
  },
  {
   "cell_type": "code",
   "execution_count": 12,
   "metadata": {},
   "outputs": [
    {
     "name": "stdout",
     "output_type": "stream",
     "text": [
      "A première vu, il y aurait 1799 annonces\n",
      "427 annonces ont pu être sauvé alors que transckribus les avaient scindés en deux paragraphes\n",
      "746 annonces ont été perdu car elles ne presentaient pas la structure type\n",
      "220 annonces ont été perdu faute de mot de séparation\n",
      "72 annonces ont été perdu car le sexe n'a pas pu être extrait\n",
      "118 annonces ont été perdu car l'age n'a pas pu être extrait\n",
      "703 annonces ont été perdu car elles étaient des doublons\n",
      "Il nous reste 375 annonces\n"
     ]
    }
   ],
   "source": [
    "Dataframe = pl.update_frame(Dataframe)"
   ]
  },
  {
   "cell_type": "code",
   "execution_count": 13,
   "metadata": {},
   "outputs": [],
   "source": [
    "ut.store_to_folder(Dataframe, file_name = 'LTDU')"
   ]
  }
 ],
 "metadata": {
  "kernelspec": {
   "display_name": "Python 3",
   "language": "python",
   "name": "python3"
  },
  "language_info": {
   "codemirror_mode": {
    "name": "ipython",
    "version": 3
   },
   "file_extension": ".py",
   "mimetype": "text/x-python",
   "name": "python",
   "nbconvert_exporter": "python",
   "pygments_lexer": "ipython3",
   "version": "3.7.3"
  }
 },
 "nbformat": 4,
 "nbformat_minor": 4
}
